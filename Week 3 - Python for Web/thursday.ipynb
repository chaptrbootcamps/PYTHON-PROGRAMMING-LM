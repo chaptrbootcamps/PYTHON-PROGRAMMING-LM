{
 "cells": [
  {
   "cell_type": "code",
   "execution_count": 2,
   "source": [
    "import pandas as pd\n",
    "import json \n",
    "from urllib.request import urlopen\n",
    "from bs4 import BeautifulSoup as bs"
   ],
   "outputs": [],
   "metadata": {}
  },
  {
   "cell_type": "code",
   "execution_count": 4,
   "source": [
    "url  = \"https://en.wikipedia.org/wiki/List_of_Super_Friends_episodes\"\n",
    "\n",
    "def scraper_superfriends(url):\n",
    "    \"\"\"\n",
    "    This piece of code does scraping\n",
    "    input: \n",
    "        ulr : string - a string or urls from websites.\n",
    "    return :\n",
    "        soup : soup object - a beautifull soup object with xml-parsed html.\n",
    "    \"\"\"\n",
    "    response = urlopen(url)\n",
    "    soup = bs(response, \"xml\")\n",
    "    return soup\n",
    "\n",
    "html = scraper_superfriends(url=url)"
   ],
   "outputs": [],
   "metadata": {}
  },
  {
   "cell_type": "code",
   "execution_count": 18,
   "source": [
    "# create a function that finds all the tables in the html\n",
    "def find_wikitables(soup):\n",
    "     series = soup.find_all(\"table\", {'class':\"wikitable plainrowheaders wikiepisodetable\"})\n",
    "     print(\"There are \",len(series), \"series in Super Friends Episodes\")\n",
    "     return series"
   ],
   "outputs": [],
   "metadata": {}
  },
  {
   "cell_type": "code",
   "execution_count": 19,
   "source": [
    "series = find_wikitables(html)"
   ],
   "outputs": [
    {
     "output_type": "stream",
     "name": "stdout",
     "text": [
      "There are  9 series in Super Friends Episodes\n"
     ]
    }
   ],
   "metadata": {}
  },
  {
   "cell_type": "code",
   "execution_count": 24,
   "source": [
    "# scrape episode names\n",
    "def episode_name(series):\n",
    "    names = []\n",
    "    for tr in series:\n",
    "        ep_name = tr.find_all(\"td\", {\"class\":\"summary\"})\n",
    "        episodes = [str(episode.text) for episode in ep_name]\n",
    "        names.append(episodes)\n",
    "    return names\n"
   ],
   "outputs": [],
   "metadata": {}
  },
  {
   "cell_type": "code",
   "execution_count": 35,
   "source": [
    "names = episode_name(series)"
   ],
   "outputs": [],
   "metadata": {}
  },
  {
   "cell_type": "code",
   "execution_count": 26,
   "source": [
    "# scrape the dates of each of the episode \n",
    "def scrape_dates(series):\n",
    "    dates = []\n",
    "    for tr in series:\n",
    "        ep_date = tr.find_all(\"span\")\n",
    "        datez = [date.text.strip().strip('(').strip(')') for date in ep_date]\n",
    "        dates.append(datez)\n",
    "    return dates"
   ],
   "outputs": [],
   "metadata": {}
  },
  {
   "cell_type": "code",
   "execution_count": 34,
   "source": [
    "dates = scrape_dates(series)"
   ],
   "outputs": [],
   "metadata": {}
  },
  {
   "cell_type": "code",
   "execution_count": 31,
   "source": [
    "# scrape the description\n",
    "def scrape_descriptions(series):\n",
    "    descriptions = []\n",
    "    for tr in series:\n",
    "        describe = tr.find_all(\"td\", \"description\")\n",
    "        descs = [desc.text.strip('\\n') for desc in describe]\n",
    "        descriptions.append(descs)\n",
    "    return descriptions"
   ],
   "outputs": [],
   "metadata": {}
  },
  {
   "cell_type": "code",
   "execution_count": 33,
   "source": [
    "descriptions = scrape_descriptions(series)"
   ],
   "outputs": [],
   "metadata": {}
  },
  {
   "cell_type": "code",
   "execution_count": null,
   "source": [
    "# pass all the "
   ],
   "outputs": [],
   "metadata": {}
  },
  {
   "cell_type": "markdown",
   "source": [
    "<table class=\"wikitable plainrowheaders wikiepisodetable\" style=\"width:100%\"><tbody><tr style=\"color:black;text-align:center\"><th scope=\"col\" style=\"background:#FFFFFF;width:5%\"><abbr title=\"Number\">No.</abbr><br>overall</th><th scope=\"col\" style=\"background:#FFFFFF;width:5%\"><abbr title=\"Number\">No.</abbr> in<br>season</th><th scope=\"col\" style=\"background:#FFFFFF\">Title</th><th scope=\"col\" style=\"background:#FFFFFF\">Original air date</th></tr><tr class=\"vevent\" style=\"text-align:center;background:#F2F2F2\"><th scope=\"row\" rowspan=\"1\" id=\"ep1\" style=\"text-align:center\">1</th><td style=\"text-align:center\">1</td><td class=\"summary\" style=\"text-align:left\">\"The Power Pirate\"</td><td style=\"text-align:center\">September&nbsp;8,&nbsp;1973<span style=\"display:none\">&nbsp;(<span class=\"bday dtstart published updated\">1973-09-08</span>)</span></td></tr><tr class=\"expand-child\"><td class=\"description\" colspan=\"5\" style=\"border-bottom:solid 3px #FBEC5C\">\n",
    "While on their weekly meeting, the Super Friends receive a TroubAlert message about an out of power giant freight train in the Sierra Nevada Mountains. Superman goes to California to stop the out of control train that is about to collide with another train. Shortly after, the Super Friends receive another TroubAlert that a cargo ship named the <i>Queen Victoria</i> is in the middle of a big storm and is about to be driven against some rocks. <a href=\"/wiki/Wonder_Woman\" title=\"Wonder Woman\">Wonder Woman</a> takes <a href=\"/wiki/Aquaman\" title=\"Aquaman\">Aquaman</a> right to the ship in her thought-powered invisible jet, where he must find a way to anchor the powerless ship. While on their way to pick up Aquaman from the coast, <a href=\"/wiki/Batman\" title=\"Batman\">Batman</a> and <a href=\"/wiki/Robin_(character)\" title=\"Robin (character)\">Robin</a> have to save two construction workers when an out of control crane puts their lives in danger. Meanwhile, Aquaman successfully anchors the ship with the help of some ocean creatures and regroups with Batman, Robin, Wendy, Marvin and Wonder Dog. There they meet a Special Inspector with Scotland Yard named Sir Cedric Cedric, who says the British ships have been targeted and he was looking for sabotage. Wonder Woman was patrolling the skies and noticed a leak in a dam that is about to cause a flood. To hold off the water, Wonder Woman makes an earth dam, but it springs a leak also, causing her to slam a boulder into it. The rest of the Super Friends join her and help stop the flood by closing the floodgates. On a stormy night, <a href=\"/wiki/Wendy,_Marvin_and_Wonder_Dog\" title=\"Wendy, Marvin and Wonder Dog\">Wendy, Marvin and Wonder Dog</a> check out an electrical generator plant and find a mysterious shadowy figure. The young heroes chase the mysterious figure, only to bump into Sir Cedric Cedric, who says the suspect had gotten away. The Super Friends must stop the power outage disasters with the help of Wendy providing details about the electrical generator plant, the shadowy figure out who calls himself the Power Pirate and how Sir Cedric fits into the picture.</td></tr>\n",
    "<tr class=\"vevent\" style=\"text-align:center;background:#F2F2F2\"><th scope=\"row\" rowspan=\"1\" id=\"ep2\" style=\"text-align:center\">2</th><td style=\"text-align:center\">2</td><td class=\"summary\" style=\"text-align:left\">\"The Baffles Puzzle\"</td><td style=\"text-align:center\">September&nbsp;15,&nbsp;1973<span style=\"display:none\">&nbsp;(<span class=\"bday dtstart published updated\">1973-09-15</span>)</span></td></tr><tr class=\"expand-child\"><td class=\"description\" colspan=\"5\" style=\"border-bottom:solid 3px #FBEC5C\">\n",
    "Colonel Wilcox from the Secret Department of Investigation S.D.I. calls upon the <a href=\"/wiki/Justice_League\" title=\"Justice League\">Justice League</a> to help prevent Professor Baffles from carrying his threat of stealing French lithographs. The Super Friends stake out the American Museum. Wendy, Marvin and Wonder Dog along with Superman, disguised as Clark Kent, keep an eye on things from inside the museum. At the museum, Wonder Dog starts sneezing because he smelled almonds in the air, and while all the commotion was going on, the paintings went missing. Professor Baffles now threatens to steal a hefty shipment of $5 million in cash. The Justice League must now make sure the money shipment makes it to Hawaii. The Super Friends thwarted an attempted heist by a gang of crooks and safely got the shipment onto a ship. On the ship, the junior members run into Mr. Mergen, a man they met earlier at the library. Wendy starts having suspicions about Mr. Mergen and she, Marvin and Wonder Dog follow him. Meanwhile, the Super Friends decide to check on the money and find almond residue. They come to the conclusion that Professor Baffles made the money disappear with a chemical solution. The junior members catch up to Mr. Mergen to find out he is actually Professor Baffles. Professor Baffles reveals he is going to make humans non-corrupt again by making books, paintings, music, and other bad influences go away. Mr. Dabney and Mr. Darvey, the two brutes Professor Baffles works for, hold Professor Baffles captive as well after he refuses to have anything more to do with them. Wonder Dog escapes and warns the Super Friends that Wendy and Marvin need to be rescued.</td></tr>\n",
    "<tr class=\"vevent\" style=\"text-align:center;background:#F2F2F2\"><th scope=\"row\" rowspan=\"1\" id=\"ep3\" style=\"text-align:center\">3</th><td style=\"text-align:center\">3</td><td class=\"summary\" style=\"text-align:left\">\"Professor Goodfellow's G.E.E.C.\"</td><td style=\"text-align:center\">September&nbsp;22,&nbsp;1973<span style=\"display:none\">&nbsp;(<span class=\"bday dtstart published updated\">1973-09-22</span>)</span></td></tr><tr class=\"expand-child\"><td class=\"description\" colspan=\"5\" style=\"border-bottom:solid 3px #FBEC5C\">\n",
    "When machines start operating by themselves, the Government asks the Justice League of America to investigate. The heroes arrive at G.E.E.C., where Professor Goodfellow shows the Super Friends his G.E.E.C. (Goodfellow's Effort-Eliminating Computer) invention, which would free everyone of work and responsibility. When Mr. Huggins, the special assistant to the President, tells Professor Goodfellow the government will not involve itself with G.E.E.C., the Professor then starts to offer free G.E.E.C. service to anyone who wants it. After a few weeks, the Super Friends decide to ask Professor Goodfellow to let them check the security of G.E.E.C., but after their visit the G.E.E.C. computer goes berserk after a mouse gets into it and the Justice League of America get the one member of their group who could assist them in this situation....<a href=\"/wiki/Plastic_Man\" title=\"Plastic Man\">Plastic Man</a>.</td></tr>\n",
    "<tr class=\"vevent\" style=\"text-align:center;background:#F2F2F2\"><th scope=\"row\" rowspan=\"1\" id=\"ep4\" style=\"text-align:center\">4</th><td style=\"text-align:center\">4</td><td class=\"summary\" style=\"text-align:left\">\"The Weather Maker\"</td><td style=\"text-align:center\">September&nbsp;29,&nbsp;1973<span style=\"display:none\">&nbsp;(<span class=\"bday dtstart published updated\">1973-09-29</span>)</span></td></tr><tr class=\"expand-child\"><td class=\"description\" colspan=\"5\" style=\"border-bottom:solid 3px #FBEC5C\">\n",
    "On their summer vacation in Florida with Wendy, Marvin and Wonder Dog discover their pool that has been frozen solid. Batman and the Junior Super Friends head to the World Weather Center after Colonel Wilcox informs Batman to find out what is causing the wild weather changes and stop it. They find out a tall, bald, thin man with glasses named Dr. Thinkquick, who is from a continent called Glacia up near the North Pole, is shifting the Gulf Stream with a jet nozzle from his tugboat at sea, as well as a remote control device to warm the climate at his dreadfully cold country, without taking into consideration to what will happen to Florida and the rest of the world.</td></tr>\n",
    "<tr class=\"vevent\" style=\"text-align:center;background:#F2F2F2\"><th scope=\"row\" rowspan=\"1\" id=\"ep5\" style=\"text-align:center\">5</th><td style=\"text-align:center\">5</td><td class=\"summary\" style=\"text-align:left\">\"Dr. Pelagian's War\"</td><td style=\"text-align:center\">October&nbsp;6,&nbsp;1973<span style=\"display:none\">&nbsp;(<span class=\"bday dtstart published updated\">1973-10-06</span>)</span></td></tr><tr class=\"expand-child\"><td class=\"description\" colspan=\"5\" style=\"border-bottom:solid 3px #FBEC5C\">\n",
    "After many reports of a talking <a href=\"/wiki/Albatross\" title=\"Albatross\">albatross</a>, Colonel Wilcox asks the Super Friends to round up three industrialists who refuse to attend a meeting about pollution. They consist of J. Mortimer Hutchinson of Hutchinson Oil, businesswoman Agatha Prentiss Caraway who owns an energy-generating plant, and Luther Fenwick of the Fenwick Corporation. An eco-terrorist named Dr. Pelagian has terrorized these three industrialists in an attempt to frighten them into stopping their polluting. Aquaman decides to investigate the identity of Dr. Pelagian based on a hunch he has about Dr. Ansil Hillbrandt, a brilliant marine biologist and a leading authority on albatrosses. Aquaman also decides to search Point Gander, the place where Hillbrandt was last seen, and finds Hillgrant's diving suit. Later, the Junior Super Friends end up meeting with Dr. Ansil Hillbrandt on his submarine The Sprite only to find out he faked his death and took to the sea where he has developed the ability to communicate with sea creatures and the technology that enables him to tap into the energies of underwater volcanoes in order to control hurricanes and tidal waves from within The Sprite. When the Super Friends thwart the plot and Superman brings The Sprite to the surface, Hillbrandt is persuaded to end his campaign when Hutchinson, Caraway, and Fenwick agree to cooperate.</td></tr>\n",
    "<tr class=\"vevent\" style=\"text-align:center;background:#F2F2F2\"><th scope=\"row\" rowspan=\"1\" id=\"ep6\" style=\"text-align:center\">6</th><td style=\"text-align:center\">6</td><td class=\"summary\" style=\"text-align:left\">\"The Shamon ‘U’\"</td><td style=\"text-align:center\">October&nbsp;13,&nbsp;1973<span style=\"display:none\">&nbsp;(<span class=\"bday dtstart published updated\">1973-10-13</span>)</span></td></tr><tr class=\"expand-child\"><td class=\"description\" colspan=\"5\" style=\"border-bottom:solid 3px #FBEC5C\">\n",
    "On a mountain hiking trip at Mystery Mountain, Wendy, Marvin and Wonder Dog discover a giant metallic \"U\". After reporting their findings to the Super Friends, the junior members show Batman and Robin the exact location where they saw the \"U\". The caped Crusaders find Dr. Simian Shamon magnetically pulling down a meteorite of solid gold using his \"Shamon U\". The junior Super Friends stumble upon Dr. Simian Shamon's lab and discover his plans to use his \"Shamon U\" to mine the skies for gold meteorites. Dr. Shamon refuses to let the Junior Super Friends go or listen to his assistant Madam Lila LaBeau, causing Madam LaBeau to get the young heroes to safety. However, the aftereffects of Dr. Shamon's sky mining caused a green and red mist called Shamonite which caused animals, plants, and non-organic objects to either grow or shrink respectively, including Wonder Dog. The Super Friends and Madam LaBeau must find a way to cancel out the Shamonite in Earth's atmosphere.</td></tr>\n",
    "<tr class=\"vevent\" style=\"text-align:center;background:#F2F2F2\"><th scope=\"row\" rowspan=\"1\" id=\"ep7\" style=\"text-align:center\">7</th><td style=\"text-align:center\">7</td><td class=\"summary\" style=\"text-align:left\">\"Too Hot to Handle\"</td><td style=\"text-align:center\">October&nbsp;20,&nbsp;1973<span style=\"display:none\">&nbsp;(<span class=\"bday dtstart published updated\">1973-10-20</span>)</span></td></tr><tr class=\"expand-child\"><td class=\"description\" colspan=\"5\" style=\"border-bottom:solid 3px #FBEC5C\">\n",
    "With temperatures rising all over the Earth, Colonel Wilcox informs the Super Friends that the rise in temperature is more than a mere heat wave. The top scientist have been working around the clock and found out the Earth is drifting from its own orbit to the Sun. Superman goes to India and seeks the help of fellow Justice League of America member the <a href=\"/wiki/Flash_(Barry_Allen)\" title=\"Flash (Barry Allen)\">Flash</a>, who was saving the Taj Mahal from an earthquake. The Flash uses his super speed to put the Earth back into its own orbit by reversing the magnetic poles of the Earth. The Junior Super Friends notice a strange man who is dressed in heavy winter clothes. They chase after the strangely dressed man and follow him to his hideout inside an active volcano on a Pacific island called Malibah. They learn that the man's name is Kolbar and he comes from the planet Solar Terrarium, where he and his people needed a constant temperature of 140 degrees to live comfortably. Kolbar was trying to find another planet for his people to live on when their planet cooled off to a bone-chilling 85 degrees because of pollution. Superman, Aquaman, the Flash, and the junior members journey to Solar Terrarium to clean up the planet. Afterwards, the planet's leader apologizes for their mistake and promises to use their resources more wisely.</td></tr>\n",
    "<tr class=\"vevent\" style=\"text-align:center;background:#F2F2F2\"><th scope=\"row\" rowspan=\"1\" id=\"ep8\" style=\"text-align:center\">8</th><td style=\"text-align:center\">8</td><td class=\"summary\" style=\"text-align:left\">\"The Androids\"</td><td style=\"text-align:center\">October&nbsp;27,&nbsp;1973<span style=\"display:none\">&nbsp;(<span class=\"bday dtstart published updated\">1973-10-27</span>)</span></td></tr><tr class=\"expand-child\"><td class=\"description\" colspan=\"5\" style=\"border-bottom:solid 3px #FBEC5C\">\n",
    "After a rocket came plunging back to Earth and crashed, Colonel Wilcox informs the Super Friends that the astronauts are missing. When Colonel Wilcox and the Super Friends investigated the scene, they found a tape recording from a man named Dr. Rebos that said all further space exploration must cease, including the top secret Venus probe mission. Conveniently, Clark Kent has been given a television assignment on the Venus space probe in which he attends with Wendy and Marvin. Wonder Dog forgets his pass and stays outside, where he is confronted by a man who wants to take his picture. The man is actually Dr. Rebos, who is taking the picture so he can make an android double of Wonder Dog to infiltrate the space station and destroy the mission. Colonel Wilcox calls Wonder Dog a traitor for his \"sabotage\", causing Wendy and Marvin to walk out in disgust. The teens figure it could not have been Wonder Dog after recalling the events of the day and decide to do same investigating. Meanwhile, the Super Friends guard the space center. Unbeknownst to them, that Dr. Rebos is watching them to make an android Superman. The Super Friends encounter more confusion when Dr. Rebos makes a robot of Superman, and orders him to destroy the Mars space station. While the real Superman fights his android double, it is up to the rest of the Super Friends to pull the plug on Dr. Rebos and his androids.</td></tr>\n",
    "<tr class=\"vevent\" style=\"text-align:center;background:#F2F2F2\"><th scope=\"row\" rowspan=\"1\" id=\"ep9\" style=\"text-align:center\">9</th><td style=\"text-align:center\">9</td><td class=\"summary\" style=\"text-align:left\">\"The Balloon People\"</td><td style=\"text-align:center\">November&nbsp;3,&nbsp;1973<span style=\"display:none\">&nbsp;(<span class=\"bday dtstart published updated\">1973-11-03</span>)</span></td></tr><tr class=\"expand-child\"><td class=\"description\" colspan=\"5\" style=\"border-bottom:solid 3px #FBEC5C\">\n",
    "A family of aliens from the planet Balunia leave their polluted planet for a home on Earth. After their flying saucer lands, the balloon people are befriended by the Super Friends. However, the news reports of these unusual guests prompt ambitious scholar Noah Tall to devise a plan to capture the balloon people so that he can learn their secret of telepathy - the one thing he does not know. When they are kidnapped, the Super Friends must rescue them.</td></tr>\n",
    "<tr class=\"vevent\" style=\"text-align:center;background:#F2F2F2\"><th scope=\"row\" rowspan=\"1\" id=\"ep10\" style=\"text-align:center\">10</th><td style=\"text-align:center\">10</td><td class=\"summary\" style=\"text-align:left\">\"The Fantastic Frerps\"</td><td style=\"text-align:center\">November&nbsp;10,&nbsp;1973<span style=\"display:none\">&nbsp;(<span class=\"bday dtstart published updated\">1973-11-10</span>)</span></td></tr><tr class=\"expand-child\"><td class=\"description\" colspan=\"5\" style=\"border-bottom:solid 3px #FBEC5C\">\n",
    "King Plasto steals raw plastic powder to create Frerp, a special plastic which he uses to confound the Super Friends. The king has been intercepting every shipment of the powder on its way to the government space research station because he intends to use the raw powder for his own ends. The Super Friends set out to end his reign of terror.</td></tr>\n",
    "<tr class=\"vevent\" style=\"text-align:center;background:#F2F2F2\"><th scope=\"row\" rowspan=\"1\" id=\"ep11\" style=\"text-align:center\">11</th><td style=\"text-align:center\">11</td><td class=\"summary\" style=\"text-align:left\">\"The Ultra Beam\"</td><td style=\"text-align:center\">November&nbsp;17,&nbsp;1973<span style=\"display:none\">&nbsp;(<span class=\"bday dtstart published updated\">1973-11-17</span>)</span></td></tr><tr class=\"expand-child\"><td class=\"description\" colspan=\"5\" style=\"border-bottom:solid 3px #FBEC5C\">\n",
    "The Super Friends search for a mysterious blue jet that is emitting a blue beam that is destroying gold and creating other disasters, like damaging steel girders at a construction site, cement blocks at the dam, phone cables, and the blackboard in Marvin's school classroom. The pilots of the blue jet are Hank and Ben, two scientists who are destroying gold with the belief that gold is the root of all evil. They feel they are doing the world a favor by destroying the gold and trying to turn it into other useful minerals. The Super Friends track the blue jet with the GETTI graph at the Seismological Bureau, and Wendy and Marvin wind up aboard the blue jet trying to convince Hank and Ben that what they are doing is wrong.</td></tr>\n",
    "<tr class=\"vevent\" style=\"text-align:center;background:#F2F2F2\"><th scope=\"row\" rowspan=\"1\" id=\"ep12\" style=\"text-align:center\">12</th><td style=\"text-align:center\">12</td><td class=\"summary\" style=\"text-align:left\">\"The Menace of the White Dwarf\"</td><td style=\"text-align:center\">November&nbsp;24,&nbsp;1973<span style=\"display:none\">&nbsp;(<span class=\"bday dtstart published updated\">1973-11-24</span>)</span></td></tr><tr class=\"expand-child\"><td class=\"description\" colspan=\"5\" style=\"border-bottom:solid 3px #FBEC5C\">\n",
    "The Super Friends investigate when certain objects disappear and are placed elsewhere. Our heroes are dismayed to discover that a white dwarf star is responsible for the disappearances. The culprit behind the white dwarf is the Raven, a dangerous scientist from another planet who values science over human life. Raven has escaped the prison specially designed to hold a genius like himself, and he has a personal vendetta against Superman for putting him there. Raven operates from an artificial island in the sky, and he has been trying to purchase a green stone from the sky from the Martingales, a hillbilly family that refuses to sell it. The stone is none other than <a href=\"/wiki/Kryptonite\" title=\"Kryptonite\">kryptonite</a>, Superman's most deadly weakness. The Raven vows to steal a monumental building. Wendy, Marvin and Wonder Dog wind up in that building - the Washington Monument - while they are on their way to warn the Super Friends. They meet the Raven, who makes a deal with Superman to exchange the building for the kryptonite he wants. Raven then proceeds to put Superman on trial.</td></tr>\n",
    "<tr class=\"vevent\" style=\"text-align:center;background:#F2F2F2\"><th scope=\"row\" rowspan=\"1\" id=\"ep13\" style=\"text-align:center\">13</th><td style=\"text-align:center\">13</td><td class=\"summary\" style=\"text-align:left\">\"The Mysterious Moles\"</td><td style=\"text-align:center\">December&nbsp;1,&nbsp;1973<span style=\"display:none\">&nbsp;(<span class=\"bday dtstart published updated\">1973-12-01</span>)</span></td></tr><tr class=\"expand-child\"><td class=\"description\" colspan=\"5\" style=\"border-bottom:solid 3px #FBEC5C\">\n",
    "Important research projects have been closed down, and the Super Friends are called in to find and restore disappearing air conditioning units. The Super Friends' mission leads then into a strange new subterranean world discovered by a pair of spelunkers known as the Moles. They are forced to fight the creatures of that world, animated trees and rocks. The Junior Super Friends investigates and discovers that, although Mr. Mole wanted to do the right thing and report their findings to the authorities, his wife deliberately refused. She feared if anyone comes to the world, they could not only steal the diamonds, but also ruin the subterranean world like people are doing to the surface world. With Superman's intervention in preventing the escape, Mrs. Mole decides to do the right thing.</td></tr>\n",
    "<tr class=\"vevent\" style=\"text-align:center;background:#F2F2F2\"><th scope=\"row\" rowspan=\"1\" id=\"ep14\" style=\"text-align:center\">14</th><td style=\"text-align:center\">14</td><td class=\"summary\" style=\"text-align:left\">\"Gulliver's Gigantic Goof\"</td><td style=\"text-align:center\">December&nbsp;8,&nbsp;1973<span style=\"display:none\">&nbsp;(<span class=\"bday dtstart published updated\">1973-12-08</span>)</span></td></tr><tr class=\"expand-child\"><td class=\"description\" colspan=\"5\" style=\"border-bottom:solid 3px #FBEC5C\">\n",
    "Using his microwave reducer, mad Dr. Hiram Gulliver shrinks all adults - including the Super Friends - to two inches tall to help the population problem (by saving resources)...and also to rule over them (he will remain full-sized to watch over the miniature population of the world) as part of his revenge for ridiculing his theories. The <a href=\"/wiki/Green_Arrow\" title=\"Green Arrow\">Green Arrow</a> joins the Super Friends to stop him and to return things to normal. Only with Wendy and Marvin's intervention does Dr. Gulliver decides to use more reasonable means to stop overpopulation.</td></tr>\n",
    "<tr class=\"vevent\" style=\"text-align:center;background:#F2F2F2\"><th scope=\"row\" rowspan=\"1\" id=\"ep15\" style=\"text-align:center\">15</th><td style=\"text-align:center\">15</td><td class=\"summary\" style=\"text-align:left\">\"The Planet Splitter\"</td><td style=\"text-align:center\">December&nbsp;15,&nbsp;1973<span style=\"display:none\">&nbsp;(<span class=\"bday dtstart published updated\">1973-12-15</span>)</span></td></tr><tr class=\"expand-child\"><td class=\"description\" colspan=\"5\" style=\"border-bottom:solid 3px #FBEC5C\">\n",
    "The Super Friends are alerted when a mysterious red light shines on diamonds and then vanishes. Our heroes discover that in the process, the diamonds are stolen and are replaced by imitations. Dr. LaBond, a misguided scientist and his \"trusted\" assistant Wilbur, are stealing diamonds to power the Planet Splitter, an invention which LaBond has perfected for the purpose of splitting a planet and using half of it to serve as a second Moon with the hopes of providing Earth with more natural resources, but Wendy and Marvin point out that a second Moon would cause terrible weather conditions on Earth. Dr. LaBond is certain the project will work, and has targeted the planet Signus Uno. However, the Super Friends have placed a microdot homing signal on one of the stolen diamonds. The real thief turns out to be Wilbur, who wanted the diamonds so badly, that he made false reports to let Dr. LaBond think that his project would work, when it was really a doomed failure all along. The center portion of this episode tells the origin of Superman, as narrated by Marvin, in hopes of dissuading Dr. LaBond and Wilbur from proceeding with their plans.</td></tr>\n",
    "<tr class=\"vevent\" style=\"text-align:center;background:#F2F2F2\"><th scope=\"row\" rowspan=\"1\" id=\"ep16\" style=\"text-align:center\">16</th><td style=\"text-align:center\">16</td><td class=\"summary\" style=\"text-align:left\">\"The Watermen\"</td><td style=\"text-align:center\">December&nbsp;22,&nbsp;1973<span style=\"display:none\">&nbsp;(<span class=\"bday dtstart published updated\">1973-12-22</span>)</span></td></tr><tr class=\"expand-child\"><td class=\"description\" colspan=\"5\" style=\"border-bottom:solid 3px #FBEC5C\">\n",
    "The Super Friends close their first series by responding to ocean calamities when a mysterious red tide appears in the ocean that upsets the ecological balance of the sea. It is the work of Holo and Zara, a pair of water people from another planet who are trying to gather enough silicon to get their mother ship, inhabited by the rest of their people, home. The Super Friends are aided by Professor Matey and his submarine which is used as their base. The biggest highlight of the episode is watching the big swim chase in the ocean when Aquaman chases after Holo.</td></tr></tbody></table>"
   ],
   "metadata": {}
  }
 ],
 "metadata": {
  "orig_nbformat": 4,
  "language_info": {
   "name": "python",
   "version": "3.8.5",
   "mimetype": "text/x-python",
   "codemirror_mode": {
    "name": "ipython",
    "version": 3
   },
   "pygments_lexer": "ipython3",
   "nbconvert_exporter": "python",
   "file_extension": ".py"
  },
  "kernelspec": {
   "name": "python3",
   "display_name": "Python 3.8.5 64-bit ('base': conda)"
  },
  "interpreter": {
   "hash": "ed0d95a605922d211e52511cf7748e98a38728cdd29efc499aa0077f6af9ea7a"
  }
 },
 "nbformat": 4,
 "nbformat_minor": 2
}
