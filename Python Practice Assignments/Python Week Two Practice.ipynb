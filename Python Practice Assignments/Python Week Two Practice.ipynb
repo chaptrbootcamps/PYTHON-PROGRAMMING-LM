{
 "cells": [
  {
   "cell_type": "markdown",
   "metadata": {},
   "source": [
    "# PYTHON WEEK TWO PRACTICE"
   ]
  },
  {
   "cell_type": "markdown",
   "metadata": {},
   "source": [
    "- DO NOT CHANGE THE FUNCTION NAMES OR THE ASSERTION CHECKS ; IT WILL RESULT IN AN ERROR\n",
    "- WRITE YOUR CODE WITHIN THE WITHIN THE SPECIFIED FUNCTIONS\n",
    "- IF THE ASSERTION CHECKS RAISES AN ERROR RECTIFY YOUR CODE UNTIL NO ERROR IS RAISED BY THE ASSERTION CHECKS\n",
    "- YOU CAN ADD YOUR OWN HELPER FUNCTIONS OR CREATE/ALTER GLOBAL VARIABLES, ALTER THE RETURN STATEMENTS, BUT DO NOT ALTER THE FUNCTIONS NAMES"
   ]
  },
  {
   "cell_type": "markdown",
   "metadata": {},
   "source": [
    "----"
   ]
  },
  {
   "cell_type": "markdown",
   "metadata": {},
   "source": [
    "#### Fibbonacci with lists\n",
    "```\n",
    "Create a fibonacci function, that takes in a number and returns a list , with all fibonacci numbers up to the N-th number\n",
    "\n",
    "Hint : fibbo(2) will be [0,1,1] and fibbo(3) is [0,1,1,2]\n",
    "```"
   ]
  },
  {
   "cell_type": "code",
   "execution_count": null,
   "metadata": {},
   "outputs": [],
   "source": [
    "def fibbo(n):\n",
    "    \n",
    "    # Write your code here\n",
    "    \n",
    "    return"
   ]
  },
  {
   "cell_type": "code",
   "execution_count": null,
   "metadata": {},
   "outputs": [],
   "source": [
    "assert(fibbo(10)[-1]) == 55\n",
    "assert(fibbo(112)[-1]) == 114059301025943970552219\n",
    "assert(fibbo(6000)[-1]) == 377013149387799945333900224880775791236117337930100445535490043525045843539648818562578569150145472631258140598040875416901451349878686710189798735122954887088454924500028574003068434783807870575430696066439101846750599745829545721693784957073273631818673420751972327938538799801845560513422262958882244516053880771140410978978788942838058153862334417256446852231577242261307228498349256708182071208335817888584565766108075330781175405119280446072770439376209526520001751104214901240319492664624851096737783185573483303395157215338535471110527043630771804782569715147171393026481175856948947183228899948494260568208750719855268516476269647878714108168277444438804007613683373880351707165423524328506540659186023484368510133227968867699680214790847184799670735773757954844122828271297646621289176554762574427786113873868257758061282170336001273324376526581229870956568892731479303850890073064863486442100376745831539591175879381143478831554126208085279063513741706269326525112915577755575469466383184602256762543155745636219359236200272816189871334546629683994275939790168821520825923115371290776425534079797676308190573421064864056358117445863611087717811034416870861710009856863627270553744159738699063771087537466728943484891875282416138475233419592000"
   ]
  },
  {
   "cell_type": "code",
   "execution_count": null,
   "metadata": {},
   "outputs": [],
   "source": []
  },
  {
   "cell_type": "markdown",
   "metadata": {},
   "source": [
    "### Create a function that counts all the times a substring appears in a string and returns the count\n",
    "e.g for a string \"ABCDEFEFE\" and a substring \"EFE\" , the answer shoud be 2 since : \n",
    "```\n",
    "ABCDEFEFE  \n",
    "    EFE\n",
    "      EFE\n",
    "      \n",
    " or\n",
    " \n",
    " ABCDEFEFE   ABCDEFEFE\n",
    "     EFE           EFE\n",
    "\n",
    "```\n",
    "\n",
    "The function accepts 2 parameters ; the string , and the substring"
   ]
  },
  {
   "cell_type": "code",
   "execution_count": 4,
   "metadata": {},
   "outputs": [],
   "source": [
    "def string_repeat():\n",
    "    \n",
    "    # Write your code here   \n",
    "    \n",
    "    return "
   ]
  },
  {
   "cell_type": "code",
   "execution_count": null,
   "metadata": {},
   "outputs": [],
   "source": [
    "string1 = \"ABCDEFEFE\"\n",
    "string2 = \"1233212321212321231212123212321223223321123\" \n",
    "string3 = \" W3BDFR#_FR#_TH294JVWIW3BDFAVFBNEW3BDFR#_TH W3BDFR#_THW3BDFR#_THW3BDFR#_TH!MC_$NDKW_W3BDFR#_TH@80NCHSBKWI3R3W3BDFR#_TH\"\n",
    "string4 = \"WEEEEEEEEEEEEWEWWWWWEEEEEEEEEEEEEEWEEEEEEEEEEWEEEEWEWWEWEEEEEEEEEEWEWEWEWEEEWEWEWEWEEWWWEEEWEEWEEEEWEWEEWEWEWEWEEEEEEWEWEWWEE\"\n",
    "\n",
    "assert(string_repeat(string1,\"EFE\")) == 2\n",
    "assert(string_repeat(string2, \"123\" )) == 7\n",
    "assert(string_repeat(string3, \"W3BDFR#_TH\")) == 6 \n",
    "assert(string_repeat(string4, \"EWE\" )) == 23"
   ]
  },
  {
   "cell_type": "code",
   "execution_count": null,
   "metadata": {},
   "outputs": [],
   "source": []
  },
  {
   "cell_type": "markdown",
   "metadata": {},
   "source": [
    "Python has built-in string validation methods for basic data. It can check if a string is composed of alphabetical characters, alphanumeric characters, digits, etc.\n",
    "\n",
    "str.isalnum()\n",
    "This method checks if all the characters of a string are alphanumeric (a-z, A-Z and 0-9).\n",
    "\n",
    "```\n",
    ">>> print 'ab123'.isalnum()\n",
    "True\n",
    ">>> print 'ab123#'.isalnum()\n",
    "False\n",
    "str.isalpha()\n",
    "This method checks if all the characters of a string are alphabetical (a-z and A-Z).\n",
    "\n",
    ">>> print 'abcD'.isalpha()\n",
    "True\n",
    ">>> print 'abcd1'.isalpha()\n",
    "False\n",
    "str.isdigit()\n",
    "This method checks if all the characters of a string are digits (0-9).\n",
    "\n",
    ">>> print '1234'.isdigit()\n",
    "True\n",
    ">>> print '123edsd'.isdigit()\n",
    "False\n",
    "str.islower()\n",
    "This method checks if all the characters of a string are lowercase characters (a-z).\n",
    "\n",
    ">>> print 'abcd123#'.islower()\n",
    "True\n",
    ">>> print 'Abcd123#'.islower()\n",
    "False\n",
    "str.isupper()\n",
    "This method checks if all the characters of a string are uppercase characters (A-Z).\n",
    "\n",
    ">>> print 'ABCD123#'.isupper()\n",
    "True\n",
    ">>> print 'Abcd123#'.isupper()\n",
    "False\n",
    "\n",
    "```\n",
    "\n",
    "Task\n",
    "\n",
    "You are given a string .\n",
    "Your task is to find out if the string  contains: alphanumeric characters, alphabetical characters, digits, lowercase and uppercase characters.\n",
    "\n",
    "Input Format : A single line containing a string .\n",
    "\n",
    "Constraints : 1<= String length <= 200\n",
    "\n",
    "\n",
    "Output Format\n",
    "\n",
    "In the first line, print True if  has any alphanumeric characters. Otherwise, print False.<br>\n",
    "In the second line, print True if  has any alphabetical characters. Otherwise, print False.<br>\n",
    "In the third line, print True if  has any digits. Otherwise, print False.<br>\n",
    "In the fourth line, print True if  has any lowercase characters. Otherwise, print False.<br>\n",
    "In the fifth line, print True if  has any uppercase characters. Otherwise, print False.<br>\n",
    "\n",
    "The function should return a TUPLE with all the return values<br>\n",
    "i.e combine all the returned values into one tupple<br>\n",
    "```\n",
    "e.g (True , False, False , True, False) , (False,False,False,False,False) e.t.c.\n",
    "```"
   ]
  },
  {
   "cell_type": "code",
   "execution_count": null,
   "metadata": {},
   "outputs": [],
   "source": []
  },
  {
   "cell_type": "code",
   "execution_count": 5,
   "metadata": {},
   "outputs": [],
   "source": [
    "def string_checker():\n",
    "    \n",
    "    # Write your code here\n",
    "    \n",
    "    return        "
   ]
  },
  {
   "cell_type": "code",
   "execution_count": null,
   "metadata": {},
   "outputs": [],
   "source": [
    "string1 = \"#@!WWWEResrtVLX-SL30ERNE8H2OR4I23R-2T87hhgjZW9D,49RJ,W;/X.CJFG04JE.C;D92dweSdfgKgtJDENCKNE@#$$\"\n",
    "\n",
    "assert string_checker(\"WWWW\") == (True, True, False, False, True)\n",
    "assert string_checker(\"123\") == (True, False, True, False, False)\n",
    "assert string_checker(\"#@!@#$$\") == (False, False, False, False, False)\n",
    "assert string_checker(string1) == (True, True, True, True, True)"
   ]
  },
  {
   "cell_type": "code",
   "execution_count": null,
   "metadata": {},
   "outputs": [],
   "source": []
  },
  {
   "cell_type": "markdown",
   "metadata": {},
   "source": [
    "### Adding values to a dictionary"
   ]
  },
  {
   "cell_type": "markdown",
   "metadata": {},
   "source": [
    "You are provided with a list of list containing items to be added to a dictionary\n",
    "\n",
    "```\n",
    "item_list  = \n",
    "[['phones','Nokia','Motorola'],\n",
    "['houses', 'hut','single_bedroom'],\n",
    "['cars','ferari','lamborghini','Bentley','Toyota'],\n",
    "['trees', 'Mahogany','Rosewood','Cypress']]\n",
    "\n",
    "```\n",
    "The first item is the category and what follow are the items to be placed in that category \n",
    "\n",
    "Create a dictionary called MY_DICTIONARY with the categories as keys and the subsequnt items as values\n",
    "\n",
    "Print out the keys of the dictionary"
   ]
  },
  {
   "cell_type": "code",
   "execution_count": 6,
   "metadata": {},
   "outputs": [],
   "source": [
    "item_list  =   [['phones','Nokia','Motorola'],\n",
    "                ['houses', 'hut','single_bedroom'],\n",
    "                ['cars','ferari','lamborghini','Bentley','Toyota'],\n",
    "                ['trees', 'Mahogany','Rosewood','Cypress']]\n",
    "\n",
    "# Write your code here"
   ]
  },
  {
   "cell_type": "code",
   "execution_count": null,
   "metadata": {},
   "outputs": [],
   "source": [
    "dict_checker = {'phones': ['Nokia', 'Motorola'],\n",
    " 'houses': ['hut', 'single_bedroom'],\n",
    " 'cars': ['ferari', 'lamborghini', 'Bentley', 'Toyota'],\n",
    " 'trees': ['Mahogany', 'Rosewood', 'Cypress']}\n",
    "\n",
    "\n",
    "assert dict_checker == MY_DICTIONARY"
   ]
  },
  {
   "cell_type": "code",
   "execution_count": null,
   "metadata": {},
   "outputs": [],
   "source": []
  },
  {
   "cell_type": "markdown",
   "metadata": {},
   "source": [
    "Similar to the previous one with a twist\n",
    "\n",
    "Here there are some repeated categories, \n",
    "\n",
    "your goal is to make sure no category appears twice as a key\n",
    "\n",
    "i.e if a list with phones appears twice , in the lists of lists\n",
    "\n",
    "in the dictionary there can only be one phone 'key' with all the phones as values \n",
    "\n",
    "```\n",
    "item_list = \n",
    "[['phones','Nokia','Motorola'],\n",
    "['houses', 'hut','single-room','Bed-Sitter'],\n",
    "['cars','ferari','lamborghini','Demio','Scania','Mercedes'],\n",
    "['trees', 'Mahogany','Rosewood'],\n",
    "['cars','Bentley','Toyota'],\n",
    "['phones','Samsung','Xiaomi,'Tecno','Iphone'],\n",
    "['cars','Mitsubishi','Volvo','Mazda','BMW']]\n",
    "```\n",
    "\n",
    "call your dictionary MY_DICTIONARY_UNIQUE_CATS"
   ]
  },
  {
   "cell_type": "code",
   "execution_count": 7,
   "metadata": {},
   "outputs": [],
   "source": [
    "item_list = [['phones','Nokia','Motorola'],\n",
    "            ['houses', 'hut','single-room','Bed-Sitter'],\n",
    "            ['cars','ferari','lamborghini','Demio','Scania','Mercedes'],\n",
    "            ['trees', 'Mahogany','Rosewood'],\n",
    "            ['cars','Bentley','Toyota'],\n",
    "            ['phones','Samsung','Xiaomi','Tecno','Iphone'],\n",
    "            ['cars','Mitsubishi','Volvo','Mazda','BMW']]\n",
    "\n",
    "\n",
    "# Write your code here"
   ]
  },
  {
   "cell_type": "code",
   "execution_count": null,
   "metadata": {},
   "outputs": [],
   "source": [
    "dict_checker2 = {'phones': ['Nokia', 'Motorola', 'Samsung', 'Xiaomi', 'Tecno', 'Iphone'],\n",
    "                 'houses': ['hut', 'single-room', 'Bed-Sitter'],\n",
    "                 'cars': ['ferari','lamborghini','Demio','Scania','Mercedes','Bentley','Toyota','Mitsubishi','Volvo','Mazda','BMW'],\n",
    "                 'trees': ['Mahogany', 'Rosewood']}\n",
    "\n",
    "\n",
    "assert dict_checker2 == MY_DICTIONARY_UNIQUE_CATS"
   ]
  },
  {
   "cell_type": "code",
   "execution_count": null,
   "metadata": {},
   "outputs": [],
   "source": []
  },
  {
   "cell_type": "code",
   "execution_count": null,
   "metadata": {},
   "outputs": [],
   "source": []
  },
  {
   "cell_type": "code",
   "execution_count": 75,
   "metadata": {},
   "outputs": [],
   "source": []
  },
  {
   "cell_type": "markdown",
   "metadata": {},
   "source": [
    "### Return the a dictionary from item_list without any repeated_values per category or repeated categories\n",
    "\n",
    "```\n",
    "item_list = \n",
    "[['phones','Tecno','Nokia','Motorola'],\n",
    "['houses', 'hut','single-room','Bed-Sitter'],\n",
    "['cars','ferari','lamborghini','Demio','Scania','Mercedes','BMW'],\n",
    "['trees', 'Mahogany','Rosewood'],\n",
    "['cars','Bentley','Toyota'],\n",
    "['phones','Samsung','Nokia','Xiaomi,'Tecno','Iphone'],\n",
    "['cars','Mitsubishi','Volvo','lamborghini','Demio','Mazda','BMW']]\n",
    "```\n",
    "\n",
    "Call your dictionary MY_UNIQUE_DICT"
   ]
  },
  {
   "cell_type": "code",
   "execution_count": null,
   "metadata": {},
   "outputs": [],
   "source": [
    "item_list = [['phones','Tecno','Nokia','Motorola'],\n",
    "            ['houses', 'hut','single-room','Bed-Sitter'],\n",
    "            ['cars','ferari','lamborghini','Demio','lamborghini','Scania','Mercedes','BMW'],\n",
    "            ['trees', 'Mahogany','Rosewood'],\n",
    "            ['cars','Bentley','Toyota'],\n",
    "            ['phones','Samsung','Nokia','Xiaomi','Tecno','Iphone'],\n",
    "            ['cars','Mitsubishi','Volvo','lamborghini','Demio','Mazda','BMW']]\n",
    "\n",
    "\n",
    "# Write your code here"
   ]
  },
  {
   "cell_type": "code",
   "execution_count": null,
   "metadata": {},
   "outputs": [],
   "source": [
    "dict_checker3 = {'phones': ['Samsung', 'Iphone', 'Nokia', 'Tecno', 'Motorola', 'Xiaomi'],\n",
    " 'houses': ['hut', 'single-room', 'Bed-Sitter'],\n",
    " 'cars': ['lamborghini', 'Mercedes',  'Demio','Scania','Toyota','Bentley','Volvo','Mazda','Mitsubishi','BMW','ferari'],\n",
    " 'trees': ['Mahogany', 'Rosewood']}\n",
    "\n",
    "assert dict_checker3 == MY_UNIQUE_DICT"
   ]
  },
  {
   "cell_type": "code",
   "execution_count": null,
   "metadata": {},
   "outputs": [],
   "source": []
  },
  {
   "cell_type": "code",
   "execution_count": null,
   "metadata": {},
   "outputs": [],
   "source": []
  }
 ],
 "metadata": {
  "kernelspec": {
   "display_name": "Python 3",
   "language": "python",
   "name": "python3"
  },
  "language_info": {
   "codemirror_mode": {
    "name": "ipython",
    "version": 3
   },
   "file_extension": ".py",
   "mimetype": "text/x-python",
   "name": "python",
   "nbconvert_exporter": "python",
   "pygments_lexer": "ipython3",
   "version": "3.7.4"
  }
 },
 "nbformat": 4,
 "nbformat_minor": 4
}
