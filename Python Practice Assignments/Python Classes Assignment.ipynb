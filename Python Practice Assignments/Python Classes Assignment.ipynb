{
 "cells": [
  {
   "cell_type": "markdown",
   "metadata": {},
   "source": [
    "# PYTHON CLASSES ASSIGNMENT"
   ]
  },
  {
   "cell_type": "markdown",
   "metadata": {},
   "source": [
    "```\r\n",
    "Part One  : Creating a class Node and initalize it with a value n\r\n",
    "Make sure the value of the Node can be equated to the integer n\r\n",
    "```"
   ]
  },
  {
   "cell_type": "code",
   "execution_count": null,
   "metadata": {},
   "outputs": [],
   "source": [
    "\r\n",
    "# Write your code here\r\n",
    "\r\n",
    "\r\n",
    "n = 10\r\n",
    "v = Node(n)\r\n",
    "print(str(n)==str(v))"
   ]
  },
  {
   "cell_type": "code",
   "execution_count": null,
   "metadata": {},
   "outputs": [],
   "source": []
  },
  {
   "cell_type": "code",
   "execution_count": null,
   "metadata": {},
   "outputs": [],
   "source": []
  },
  {
   "cell_type": "markdown",
   "metadata": {},
   "source": [
    "```\r\n",
    "Part Two : \r\n",
    "Create a Student object with the following attributes :\r\n",
    "    - A student's two names\r\n",
    "    - A student's year of birth\r\n",
    "It should print :\r\n",
    "     The student's name and the students current age\r\n",
    "\r\n",
    "Hint : initialize with names and year of birth \r\n",
    "```\r\n",
    "    "
   ]
  },
  {
   "cell_type": "code",
   "execution_count": null,
   "metadata": {},
   "outputs": [],
   "source": []
  },
  {
   "cell_type": "code",
   "execution_count": null,
   "metadata": {},
   "outputs": [],
   "source": []
  },
  {
   "cell_type": "code",
   "execution_count": null,
   "metadata": {},
   "outputs": [],
   "source": []
  },
  {
   "cell_type": "markdown",
   "metadata": {},
   "source": [
    "```\r\n",
    "Part Three:\r\n",
    "Create a class Area that returns the area of any shape given the dimensions\r\n",
    "We will use 3 shapes for this case \r\n",
    "(Circle, Triangle, Rectangle)\r\n",
    "The area should be rounded up to the nearest Whole Number\r\n",
    "\r\n",
    "It should return the message \"DON'T USE NEGATIVE UNITS\" if any of the measurments/distances is negative\r\n",
    "```"
   ]
  },
  {
   "cell_type": "code",
   "execution_count": null,
   "metadata": {},
   "outputs": [],
   "source": [
    "\r\n",
    "# Write your code here\r\n",
    "\r\n",
    "my_shape = Area()\r\n",
    "assert my_shape.Triangle(34,82) == 1394\r\n",
    "assert my_shape.Rectangle(7,13) == 91\r\n",
    "assert my_shape.Circle(22) == 1520\r\n",
    "assert my_shape.Rectangle(-14,13) == \"DON'T USE NEGATIVE UNITS\"\r\n",
    "assert my_shape.Triangle(-134,-182) == \"DON'T USE NEGATIVE UNITS\"\r\n",
    "assert my_shape.Circle(-2.2) == \"DON'T USE NEGATIVE UNITS\"\r\n",
    "\r\n"
   ]
  },
  {
   "cell_type": "code",
   "execution_count": null,
   "metadata": {},
   "outputs": [],
   "source": []
  },
  {
   "cell_type": "code",
   "execution_count": null,
   "metadata": {},
   "outputs": [],
   "source": []
  },
  {
   "cell_type": "code",
   "execution_count": null,
   "metadata": {},
   "outputs": [],
   "source": []
  },
  {
   "cell_type": "markdown",
   "metadata": {},
   "source": [
    "```\n",
    "Part Four,\n",
    "You are given two complex numbers, and you have to print the result of their addition, subtraction, multiplication, division and modulus operations.\n",
    "\n",
    "The real and imaginary precision part should be correct up to two decimal places.\n",
    "\n",
    "Input Format\n",
    "\n",
    "One line of input: The real and imaginary part of a number separated by a space.\n",
    "\n",
    "Output Format\n",
    "\n",
    "For two complex numbers C and D, the output should be in the following sequence on separate lines:\n",
    "    C + D\n",
    "    C - D\n",
    "    C * D\n",
    "    C / D\n",
    "    mod(C)\n",
    "    mod(D)\n",
    "\n",
    "For complex numbers with non-zero real A and B complex part, the output should be in the following format:\n",
    "A + Bi\n",
    "Replace the plus(+) symbol  with a minus(-) symbol  when B < 0 \n",
    "For complex numbers with a zero complex part i.e. real numbers, the output should be:\n",
    "A + 0.00i\n",
    "For complex numbers where the real part is zero and the complex part(B) is non-zero, the output should be:\n",
    "0.00 + Bi\n",
    "\n",
    "Sample Input\n",
    "    2 1\n",
    "    5 6\n",
    "\n",
    "- From the sample input above the two complex numbers you will run operations on will be \n",
    "    2 + i\n",
    "    5 + 6i\n",
    "\n",
    "Sample output\n",
    "    7.00+7.00i\n",
    "    -3.00-5.00i\n",
    "    4.00+17.00i\n",
    "    0.26-0.11i\n",
    "    2.24+0.00i\n",
    "    7.81+0.00i\n",
    "```"
   ]
  },
  {
   "cell_type": "code",
   "execution_count": null,
   "metadata": {},
   "outputs": [],
   "source": [
    "'''\r\n",
    "\r\n",
    "**** DO NOT ALTER THIS CELL***\r\n",
    "\r\n",
    "'''\r\n",
    "\r\n",
    "def assert_funcion(c_string,d_string, res_list):\r\n",
    "    c = map(float, c_string.split())\r\n",
    "    d = map(float, d_string.split())\r\n",
    "    x = Complex(*c)\r\n",
    "    y = Complex(*d)\r\n",
    "    result = list(map(str, [x+y, x-y, x*y, x/y, x.mod(), y.mod()]) )\r\n",
    "\r\n",
    "    try : \r\n",
    "        assert res_list == result\r\n",
    "    except AssertionError : \r\n",
    "        error_msg =\"ASSERTION ERROR :\\n Error with result for :\"\r\n",
    "        print(error_msg + \"\\n c_string = {} , d_string = {}\" .format(c_string ,d_string))\r\n",
    "\r\n",
    "    return result"
   ]
  },
  {
   "cell_type": "code",
   "execution_count": null,
   "metadata": {},
   "outputs": [],
   "source": [
    "'''\r\n",
    "**** YOU MAY ALTER THIS CELL***\r\n",
    "'''\r\n",
    "import math\r\n",
    "\r\n",
    "class Complex(object):\r\n",
    "    def __init__(self, real, imaginary):\r\n",
    "        \r\n",
    "    def __add__(self, no):\r\n",
    "        \r\n",
    "    def __sub__(self, no):\r\n",
    "        \r\n",
    "    def __mul__(self, no):\r\n",
    "\r\n",
    "    def __truediv__(self, no):\r\n",
    "\r\n",
    "    def mod(self):\r\n",
    "\r\n",
    "    def __str__(self):\r\n",
    "        if self.imaginary == 0:\r\n",
    "            result = \"%.2f+0.00i\" % (self.real)\r\n",
    "        elif self.real == 0:\r\n",
    "            if self.imaginary >= 0:\r\n",
    "                result = \"0.00+%.2fi\" % (self.imaginary)\r\n",
    "            else:\r\n",
    "                result = \"0.00-%.2fi\" % (abs(self.imaginary))\r\n",
    "        elif self.imaginary > 0:\r\n",
    "            result = \"%.2f+%.2fi\" % (self.real, self.imaginary)\r\n",
    "        else:\r\n",
    "            result = \"%.2f-%.2fi\" % (self.real, abs(self.imaginary))\r\n",
    "        return result\r\n"
   ]
  },
  {
   "cell_type": "code",
   "execution_count": null,
   "metadata": {},
   "outputs": [],
   "source": [
    "'''\r\n",
    "TRIAL TEST \r\n",
    "You can run/alter this cell to check how/whether your code is working\r\n",
    "\r\n",
    "'''\r\n",
    "c_string =[\"2 1\"]\r\n",
    "d_string = [\"5 6\"]\r\n",
    "result_list = ['7.00+7.00i', '-3.00-5.00i', '4.00+17.00i', '16.00-7.00i', '2.24+0.00i', '7.81+0.00i']\r\n",
    "\r\n",
    "print(*map(str, assert_funcion(c_string, d_string, result_list)), sep='\\n')\r\n"
   ]
  },
  {
   "cell_type": "code",
   "execution_count": null,
   "metadata": {},
   "outputs": [],
   "source": [
    "'''\r\n",
    "*** DO NOT ALTER***\r\n",
    "FULL TEST\r\n",
    "'''\r\n",
    "\r\n",
    "c_strings =[\"2 1\", \"3 -9\", \"-11 -4\"]\r\n",
    "d_strings = [\"5 6\",\"12 0\", \"-8 -1\"]\r\n",
    "result_lists = [['7.00+7.00i', '-3.00-5.00i', '4.00+17.00i', '16.00-7.00i', '2.24+0.00i', '7.81+0.00i'],\r\n",
    "                ['15.00-9.00i', '-9.00-9.00i',  '36.00-108.00i', '36.00-108.00i', '9.49+0.00i', '12.00+0.00i'],\r\n",
    "                ['-19.00-5.00i','-3.00-3.00i','84.00+43.00i','92.00+21.00i','11.70+0.00i','8.06+0.00i'] ]\r\n",
    "\r\n",
    "for c_ ,d_ , result_ in zip(c_strings,  d_strings , result_lists):\r\n",
    "    assert_funcion(c_, d_, result_)\r\n",
    "\r\n"
   ]
  }
 ],
 "metadata": {
  "kernelspec": {
   "display_name": "Python 3",
   "language": "python",
   "name": "python3"
  },
  "language_info": {
   "codemirror_mode": {
    "name": "ipython",
    "version": 3
   },
   "file_extension": ".py",
   "mimetype": "text/x-python",
   "name": "python",
   "nbconvert_exporter": "python",
   "pygments_lexer": "ipython3",
   "version": "3.7.4"
  }
 },
 "nbformat": 4,
 "nbformat_minor": 4
}
