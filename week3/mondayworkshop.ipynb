{
 "cells": [
  {
   "cell_type": "markdown",
   "source": [
    "<font size=\"4\" color=\"green\">\n",
    "\n",
    "# Tutorial: Python Regex (Regular Expressions)"
   ],
   "metadata": {}
  },
  {
   "cell_type": "markdown",
   "source": [
    "<font size=\"4\" color='gold'>\n",
    "\n",
    "Importing Neccessary packages"
   ],
   "metadata": {}
  },
  {
   "cell_type": "code",
   "execution_count": 1,
   "source": [
    "import re"
   ],
   "outputs": [],
   "metadata": {}
  },
  {
   "cell_type": "markdown",
   "source": [
    "<font size=\"4\" color = 'blue'>\n",
    "\n",
    "## Main Task. \n",
    "Our company Chaptr Global LLC has discovered that some of the clients have been sending phishing emails in the current times. \n",
    "This has raised eyebrows to some of the board members (you) and as such the board members (you) have decided to use there best python skills to be able to identify these fraudulent and phishy (if there's a word like that) emails. "
   ],
   "metadata": {}
  },
  {
   "cell_type": "markdown",
   "source": [
    "<font size=\"4\">\n",
    "\n",
    "Here is one sample of such [emails](https://www.dataquest.io/wp-content/uploads/2020/01/test_emails.txt). "
   ],
   "metadata": {}
  },
  {
   "cell_type": "markdown",
   "source": [
    "<font size=\"4\">\n",
    "\n",
    "# Introducing Python’s Regex Module\n",
    "File handling\n",
    "\n",
    "How do we open files in python?"
   ],
   "metadata": {}
  },
  {
   "cell_type": "code",
   "execution_count": 7,
   "source": [
    "fh = open('test_emails.txt', 'r')\n",
    "##\n",
    "\n",
    "fh = fh.read()\n",
    "# dir(fh)"
   ],
   "outputs": [],
   "metadata": {}
  },
  {
   "cell_type": "markdown",
   "source": [
    "<font size=\"4\" color = 'gold'>\n",
    "\n",
    "Who was the sender of this email?\n",
    "- Method 1: for loops and string methods combined."
   ],
   "metadata": {}
  },
  {
   "cell_type": "code",
   "execution_count": 8,
   "source": [
    "for line in fh:\n",
    "    if line.startswith('From: '):\n",
    "        print(line)"
   ],
   "outputs": [],
   "metadata": {}
  },
  {
   "cell_type": "code",
   "execution_count": 9,
   "source": [
    "for line in fh.split('\\n'):\n",
    "    if \"From: \" in line:\n",
    "        print(line)"
   ],
   "outputs": [
    {
     "output_type": "stream",
     "name": "stdout",
     "text": [
      "From: \"Mr. Ben Suleman\" <bensul2004nng@spinfinder.com>\n",
      "From: \"PRINCE OBONG ELEME\" <obong_715@epatra.com>\n"
     ]
    }
   ],
   "metadata": {}
  },
  {
   "cell_type": "markdown",
   "source": [
    "<font size=\"4\" color = 'brown'>\n",
    "\n",
    "- Method 2: Using the re package."
   ],
   "metadata": {}
  },
  {
   "cell_type": "code",
   "execution_count": 10,
   "source": [
    "for line in re.findall(\"From:.*\", fh):\n",
    "    print(line)"
   ],
   "outputs": [
    {
     "output_type": "stream",
     "name": "stdout",
     "text": [
      "From: \"Mr. Ben Suleman\" <bensul2004nng@spinfinder.com>\n",
      "From: \"PRINCE OBONG ELEME\" <obong_715@epatra.com>\n"
     ]
    }
   ],
   "metadata": {}
  },
  {
   "cell_type": "markdown",
   "source": [
    "<font size=\"4\" color = 'dark-green'>\n",
    "\n",
    "## Advantage of Re.\n",
    "- Very simple. \n",
    "- Reduces effort of finding out patterns."
   ],
   "metadata": {}
  },
  {
   "cell_type": "markdown",
   "source": [
    "<font size=\"4\">\n",
    "\n",
    "## The syntax.\n",
    "**This function takes two arguments in the form of re.findall(pattern, string)**\n",
    "- ```pattern``` represents the substring we want to find.\n",
    "- ```string``` represents the main string we want to find it in.\n",
    "- ```.*```  is a shorthand for a string pattern\n"
   ],
   "metadata": {}
  },
  {
   "cell_type": "markdown",
   "source": [
    "## Apply the same idea to find when the emails were sent."
   ],
   "metadata": {}
  },
  {
   "cell_type": "code",
   "execution_count": null,
   "source": [],
   "outputs": [],
   "metadata": {}
  },
  {
   "cell_type": "markdown",
   "source": [
    "# Common Python Regex Patterns\n",
    "<font size=\"4\">\n",
    "\n",
    "- `w` matches alphanumeric characters, which means a-z, A-Z, and 0-9. It also matches the underscore, _, and the dash, -.\n",
    "- `d` matches digits, which means 0-9.\n",
    "- `s` matches whitespace characters, which include the tab, new line, carriage return, and space characters.\n",
    "- `S` matches non-whitespace characters.\n",
    "- `.` matches any character except the new line character n.\n",
    "- `*` zero or more occurrences.\n",
    "- `+` One or more occurrences. \n",
    "- `{}` Exactly specified number of occurrences.\n",
    "- `|` Either or.\n",
    "- `()` Capture and return a particular group.\n",
    "- `[]` returns a set of characters.\n",
    "- `\\` signals a specils sequence / also used to escape special characters.\n",
    "- `^` matches start with a parttern\n",
    "- `$` matches the ending pattern.\n",
    "  \n",
    "\n",
    "</font>"
   ],
   "metadata": {}
  },
  {
   "cell_type": "markdown",
   "source": [
    "<font size='4'>\n",
    "\n",
    "Let's clean the names of the recipients.\n"
   ],
   "metadata": {}
  },
  {
   "cell_type": "code",
   "execution_count": null,
   "source": [
    "match  = re.findall(\"From:.*\", fh)\n",
    "\n",
    "for line in match:\n",
    "    print(re.findall('\\\".*\\\"', line))"
   ],
   "outputs": [
    {
     "output_type": "stream",
     "name": "stdout",
     "text": [
      "['\"Mr. Ben Suleman\"']\n",
      "['\"PRINCE OBONG ELEME\"']\n"
     ]
    }
   ],
   "metadata": {}
  },
  {
   "cell_type": "markdown",
   "source": [
    "<font size='4'>\n",
    "\n",
    "The backslash is a special character used for escaping other special characters"
   ],
   "metadata": {}
  },
  {
   "cell_type": "markdown",
   "source": [
    "<font size=\"4\" color = 'blue'>\n",
    "\n",
    "What if we want to find the email address instead?"
   ],
   "metadata": {}
  },
  {
   "cell_type": "code",
   "execution_count": null,
   "source": [],
   "outputs": [],
   "metadata": {}
  },
  {
   "cell_type": "markdown",
   "source": [
    "<font size=\"4\" color = 'blue'>\n",
    "\n",
    "What if we want to find the front part of the email address instead?"
   ],
   "metadata": {}
  },
  {
   "cell_type": "code",
   "execution_count": null,
   "source": [],
   "outputs": [],
   "metadata": {}
  },
  {
   "cell_type": "markdown",
   "source": [
    "<font size=\"4\" color = 'blue'>\n",
    "\n",
    "What if we want to find the domain name of the email address instead?"
   ],
   "metadata": {}
  },
  {
   "cell_type": "code",
   "execution_count": null,
   "source": [],
   "outputs": [],
   "metadata": {}
  },
  {
   "cell_type": "markdown",
   "source": [
    "<font size = '4' color = 'gold'>\n",
    "\n",
    "## Common Python Regex Functions\n",
    "<font color = 'green'>\n",
    "re.findall() is undeniably useful, but it’s not the only built-in function that’s available to us in re:\n",
    "\n",
    "- re.search()\n",
    "- re.split()\n",
    "- re.sub()"
   ],
   "metadata": {}
  },
  {
   "cell_type": "markdown",
   "source": [
    "<font size='4' color='purple'>\n",
    "\n",
    "## 1. re.search()\n",
    "\n",
    "<font color='blue'>\n",
    "While re.findall() matches all instances of a pattern in a string and returns them in a list, re.search() matches the first instance of a pattern in a string, and returns it as a re match object."
   ],
   "metadata": {}
  },
  {
   "cell_type": "code",
   "execution_count": null,
   "source": [],
   "outputs": [],
   "metadata": {}
  },
  {
   "cell_type": "markdown",
   "source": [
    "<font size='4' color='purple'>\n",
    "\n",
    "## 2. re.split()\n",
    "\n",
    "<font color='blue'>\n",
    "Suppose we need a quick way to get the domain name of the email addresses. We could do it with three regex operations, like so:"
   ],
   "metadata": {}
  },
  {
   "cell_type": "code",
   "execution_count": null,
   "source": [],
   "outputs": [],
   "metadata": {}
  },
  {
   "cell_type": "markdown",
   "source": [
    "<font size='4' color='purple'>\n",
    "\n",
    "## 3. re.sub()\n",
    "\n",
    "<font color='blue'>\n",
    "SAnother handy re function is re.sub(). As the function name suggests, it substitutes parts of a string."
   ],
   "metadata": {}
  },
  {
   "cell_type": "code",
   "execution_count": null,
   "source": [],
   "outputs": [],
   "metadata": {}
  },
  {
   "cell_type": "markdown",
   "source": [],
   "metadata": {}
  }
 ],
 "metadata": {
  "orig_nbformat": 4,
  "language_info": {
   "name": "python",
   "version": "3.8.5",
   "mimetype": "text/x-python",
   "codemirror_mode": {
    "name": "ipython",
    "version": 3
   },
   "pygments_lexer": "ipython3",
   "nbconvert_exporter": "python",
   "file_extension": ".py"
  },
  "kernelspec": {
   "name": "python3",
   "display_name": "Python 3.8.5 64-bit ('base': conda)"
  },
  "interpreter": {
   "hash": "ed0d95a605922d211e52511cf7748e98a38728cdd29efc499aa0077f6af9ea7a"
  }
 },
 "nbformat": 4,
 "nbformat_minor": 2
}