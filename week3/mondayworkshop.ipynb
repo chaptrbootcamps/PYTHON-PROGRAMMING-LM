{
 "cells": [
  {
   "cell_type": "markdown",
   "source": [
    "<font size=\"4\" color=\"green\">\n",
    "\n",
    "# Tutorial: Python Regex (Regular Expressions)"
   ],
   "metadata": {}
  },
  {
   "cell_type": "markdown",
   "source": [
    "<font size=\"4\" color='gold'>\n",
    "\n",
    "Importing Neccessary packages"
   ],
   "metadata": {}
  },
  {
   "cell_type": "code",
   "execution_count": 1,
   "source": [
    "import re #regular expressions\n",
    "import email"
   ],
   "outputs": [],
   "metadata": {}
  },
  {
   "cell_type": "markdown",
   "source": [
    "<font size=\"4\" color = 'blue'>\n",
    "\n",
    "## Main Task. \n",
    "Our company Chaptr Global LLC has discovered that some of the clients have been sending phishing emails in the current times. \n",
    "This has raised eyebrows to some of the board members (you) and as such the board members (you) have decided to use there best python skills to be able to identify these fraudulent and phishy (if there's a word like that) emails. "
   ],
   "metadata": {}
  },
  {
   "cell_type": "markdown",
   "source": [
    "<font size=\"4\">\n",
    "\n",
    "Here is one sample of such [emails](https://www.dataquest.io/wp-content/uploads/2020/01/test_emails.txt). "
   ],
   "metadata": {}
  },
  {
   "cell_type": "markdown",
   "source": [
    "<font size=\"4\">\n",
    "\n",
    "# Introducing Python’s Regex Module\n",
    "File handling\n",
    "\n",
    "How do we open files in python?"
   ],
   "metadata": {}
  },
  {
   "cell_type": "code",
   "execution_count": 2,
   "source": [
    "\n",
    "with open(\"test_emails.txt\") as f:\n",
    "    fh = f.read()\n",
    "    \n",
    "\n",
    "print(fh)\n",
    "\n",
    "\n",
    "\n"
   ],
   "outputs": [
    {
     "output_type": "stream",
     "name": "stdout",
     "text": [
      "From r  Thu Oct 31 08:11:39 2002\n",
      "Return-Path: <bensul2004nng@spinfinder.com>\n",
      "X-Sieve: cmu-sieve 2.0\n",
      "Return-Path: <bensul2004nng@spinfinder.com>\n",
      "Message-Id: <200210311310.g9VDANt24674@bloodwork.mr.itd.UM>\n",
      "From: \"Mr. Ben Suleman\" <bensul2004nng@spinfinder.com>\n",
      "Date: Thu, 31 Oct 2002 05:10:00\n",
      "To: R@M\n",
      "Subject: URGENT ASSISTANCE /RELATIONSHIP (P)\n",
      "MIME-Version: 1.0\n",
      "Content-Type: text/plain;charset=\"iso-8859-1\"\n",
      "Content-Transfer-Encoding: 7bit\n",
      "Status: O\n",
      "\n",
      "Dear Friend,\n",
      "\n",
      "I am Mr. Ben Suleman a custom officer and work as Assistant controller of the Customs and Excise department Of the Federal Ministry of Internal Affairs stationed at the Murtala Mohammed International Airport, Ikeja, Lagos-Nigeria.\n",
      "\n",
      "After the sudden death of the former Head of state of Nigeria General Sanni Abacha on June 8th 1998 his aides and immediate members of his family were arrested while trying to escape from Nigeria in a Chartered jet to Saudi Arabia with 6 trunk boxes Marked \"Diplomatic Baggage\". Acting on a tip-off as they attempted to board the Air Craft,my officials carried out a thorough search on the air craft and discovered that the 6 trunk boxes contained foreign currencies amounting to US$197,570,000.00(One Hundred and  Ninety-Seven Million Five Hundred Seventy Thousand United States Dollars).\n",
      "\n",
      "I declared only (5) five boxes to the government and withheld one (1) in my custody containing the sum of (US$30,000,000.00) Thirty Million United States Dollars Only, which has been disguised to prevent their being discovered during transportation process.Due to several media reports on the late head of state about all the money him and his co-government officials stole from our government treasury amounting\n",
      "to US$55 Billion Dollars (ref:ngrguardiannews.com) of July 2nd 1999. Even the London times of July 1998 reported that General Abacha has over US$3.Billion dollars in one account overseas. We decided to conceal this one (1)box till the situation is calm and quite on the issue. The box was thus deposited with a security company here in Nigeria and tagged as \"Precious Stones and Jewellry\" in other that its\n",
      "content will not be discovered. Now that all is calm, we (myself and two of my colleagues in the operations team) are now ready to move this box out of the country through a diplomatic arrangement which is the safest means. \n",
      "\n",
      "However as government officials the Civil Service Code of Conduct does not allow us by law to operate any foreign account or own foreign investment and the amount of money that can be found in our account\n",
      "cannot be more than our salary on the average, thus our handicapp and our need for your assistance to help collect and keep safely in your account this money.\n",
      "\n",
      "Therefore we want you to assist us in moving this money out of Nigeria. We shall definitely compensate you handsomely for the assistance. We can do this by instructing the Security Company here in Nigeria to\n",
      "move the consignment to their affiliate branch office outside Nigeria through diplomatic means and the consignment will be termed as Precious Stones and Jewelleries\" which you bought during your visit to Nigeria and is being transfered to your country from here for safe keeping. Then we can arrange to meet at the destination country to take the delivery of the consignment. You will thereafter open an account there and lodge the Money there and gradually instruct remittance to your Country. \n",
      "\n",
      "This business is 100% risk free for you so please treat this matter with utmost confidentiality .If you indicate your interest to assist us please just e-mail me for more Explanation on how we plan to execute the transaction.\n",
      "\n",
      "Expecting your response urgently.\n",
      "\n",
      "Best regards,\n",
      "\n",
      "Mr. Ben Suleman\n",
      "\n",
      "From r  Thu Oct 31 17:27:16 2002\n",
      "Return-Path: <obong_715@epatra.com>\n",
      "X-Sieve: cmu-sieve 2.0\n",
      "Return-Path: <obong_715@epatra.com>\n",
      "Message-Id: <200210312227.g9VMQvDj017948@bluewhale.cs.CU>\n",
      "From: \"PRINCE OBONG ELEME\" <obong_715@epatra.com>\n",
      "Reply-To: obong_715@epatra.com\n",
      "To: webmaster@aclweb.org\n",
      "Date: Thu, 31 Oct 2002 22:17:55 +0100\n",
      "Subject: GOOD DAY TO YOU\n",
      "X-Mailer: Microsoft Outlook Express 5.00.2919.6900DM\n",
      "MIME-Version: 1.0\n",
      "Content-Type: text/plain; charset=\"us-ascii\"\n",
      "Content-Transfer-Encoding: 8bit\n",
      "X-MIME-Autoconverted: from quoted-printable to 8bit by sideshowmel.si.UM id g9VMRBW20642\n",
      "Status: RO\n",
      "\n",
      "FROM HIS ROYAL MAJESTY (HRM) CROWN RULER OF ELEME KINGDOM \n",
      "CHIEF DANIEL ELEME, PHD, EZE 1 OF ELEME.E-MAIL \n",
      "ADDRESS:obong_715@epatra.com  \n",
      "\n",
      "ATTENTION:PRESIDENT,CEO Sir/ Madam. \n",
      "\n",
      "This letter might surprise you because we have met\n",
      "neither in person nor by correspondence. But I believe\n",
      "it is one day that you got to know somebody either in\n",
      "physical or through correspondence. \n",
      "\n",
      "I got your contact through discreet inquiry from the\n",
      "chambers of commerce and industry of your country on\n",
      "the net, you and your organization were revealed as\n",
      "being quite astute in private entrepreneurship, one\n",
      "has no doubt in your ability to handle a financialbusiness transaction. \n",
      "\n",
      "However, I am the first son of His Royal\n",
      "majesty,Obong.D. Eleme , and the traditional Ruler of\n",
      "Eleme Province in the oil producing area of River\n",
      "State of Nigeria. I am making this contact to you in\n",
      "respect of US$60,000,000.00 (Sixty Million United\n",
      "State Dollars), which I inherited, from my latefather. \n",
      "\n",
      "This money was accumulated from royalties paid to my\n",
      "father as compensation by the oil firms located in our\n",
      "area as a result of oil presence on our land, which\n",
      "hamper agriculture, which is our major source oflivelihood. \n",
      "\n",
      "Unfortunately my father died from protracted\n",
      "diabetes.But before his death he called my attention\n",
      "and informed me that he lodged some funds on a two\n",
      "boxes with a security firm with an open beneficiary\n",
      "status. The lodgment security code number was also\n",
      "revealed to me, he then advised me to look for a\n",
      "reliable business partner abroad, that will assist me\n",
      "in investing the money in a lucrative business as a\n",
      "result of economic instability in Nigeria. So this is\n",
      "the main reason why I am contacting you for us to move\n",
      "this money from the security firm to any Country of\n",
      "your choice for investment purpose. \n",
      "\n",
      "So I will like you to be the ultimate beneficiary, so\n",
      "that the funds can be moved in your name and\n",
      "particulars to any Country of your choice where it\n",
      "will be claimed and invested. Hence my father have had\n",
      "intimated the security firm personnel that the\n",
      "beneficiary of the box is his foreign partner whose\n",
      "particulars will be forwarded to the firm when due. \n",
      "\n",
      "But I will guide you Accordingly. As soon as the funds\n",
      "reach, I will then come over to meet you in person, so\n",
      "that we can discuss physically on investment\n",
      "potentials. Based on this assistance my Family and I\n",
      "have unanimously decided to give you 30% of the total\n",
      "money, 5% for Charity home, 10% for expenses, which\n",
      "may arise during this transaction, Fax and phone bills\n",
      "inclusive. The balance of 55% you will invest andmanaged for my Family. \n",
      "\n",
      "I hereby guarantee you that this is not government\n",
      "money, it is not drug money and it is not money from\n",
      "arms deal. Though you have to maintain high degree of\n",
      "confidentiality on this matter. I will give more\n",
      "details about the proceedings of this transaction as\n",
      "soon as I receive your favorable reply. \n",
      "\n",
      "Please reply to my Email Address:obong_715@epatra.com\n",
      "I hope this will be the beginning of a prosperous\n",
      "relationship between my family and your family. \n",
      "\n",
      "Nevertheless if you are for any reason not interested,\n",
      "kindly inform me immediately so that I will look foranother contact. \n",
      "\n",
      "I am waiting for your quick response. \n",
      "\n",
      "Yours faithfully, \n",
      "\n",
      "Prince Obong Abbot \n"
     ]
    }
   ],
   "metadata": {}
  },
  {
   "cell_type": "markdown",
   "source": [
    "<font size=\"4\" color = 'gold'>\n",
    "\n",
    "Who was the sender of this email?\n",
    "- Method 1: for loops and string methods combined."
   ],
   "metadata": {}
  },
  {
   "cell_type": "code",
   "execution_count": 3,
   "source": [
    "for line in fh:\n",
    "    if line.startswith('From: '):\n",
    "        print(line)"
   ],
   "outputs": [],
   "metadata": {}
  },
  {
   "cell_type": "code",
   "execution_count": 4,
   "source": [
    "for line in fh.split('\\n'):\n",
    "    if \"From: \" in line:\n",
    "        print(line)"
   ],
   "outputs": [
    {
     "output_type": "stream",
     "name": "stdout",
     "text": [
      "From: \"Mr. Ben Suleman\" <bensul2004nng@spinfinder.com>\n",
      "From: \"PRINCE OBONG ELEME\" <obong_715@epatra.com>\n"
     ]
    }
   ],
   "metadata": {}
  },
  {
   "cell_type": "markdown",
   "source": [
    "<font size=\"4\" color = 'brown'>\n",
    "\n",
    "- Method 2: Using the re package."
   ],
   "metadata": {}
  },
  {
   "cell_type": "code",
   "execution_count": 5,
   "source": [
    "for line in re.findall(\"From:.*\", fh):\n",
    "    print(line)"
   ],
   "outputs": [
    {
     "output_type": "stream",
     "name": "stdout",
     "text": [
      "From: \"Mr. Ben Suleman\" <bensul2004nng@spinfinder.com>\n",
      "From: \"PRINCE OBONG ELEME\" <obong_715@epatra.com>\n"
     ]
    }
   ],
   "metadata": {}
  },
  {
   "cell_type": "markdown",
   "source": [
    "<font size=\"4\" color = 'dark-green'>\n",
    "\n",
    "## Advantage of Re.\n",
    "- Very simple. \n",
    "- Reduces effort of finding out patterns."
   ],
   "metadata": {}
  },
  {
   "cell_type": "markdown",
   "source": [
    "<font size=\"4\">\n",
    "\n",
    "## The syntax.\n",
    "**This function takes two arguments in the form of re.findall(pattern, string)**\n",
    "- ```pattern``` represents the substring we want to find.\n",
    "- ```string``` represents the main string we want to find it in.\n",
    "- ```.*```  is a shorthand for a string pattern\n"
   ],
   "metadata": {}
  },
  {
   "cell_type": "markdown",
   "source": [
    "## Apply the same idea to find when the emails were sent."
   ],
   "metadata": {}
  },
  {
   "cell_type": "code",
   "execution_count": 6,
   "source": [
    "dates = []\n",
    "re.findall(\"Date:.*\", fh)"
   ],
   "outputs": [
    {
     "output_type": "execute_result",
     "data": {
      "text/plain": [
       "['Date: Thu, 31 Oct 2002 05:10:00', 'Date: Thu, 31 Oct 2002 22:17:55 +0100']"
      ]
     },
     "metadata": {},
     "execution_count": 6
    }
   ],
   "metadata": {}
  },
  {
   "cell_type": "markdown",
   "source": [
    "# Common Python Regex Patterns\n",
    "<font size=\"4\">\n",
    "\n",
    "- `w` matches alphanumeric characters, which means a-z, A-Z, and 0-9. It also matches the underscore, _, and the dash, -.\n",
    "- `d` matches digits, which means 0-9.\n",
    "- `s` matches whitespace characters, which include the tab, new line, carriage return, and space characters.\n",
    "- `S` matches non-whitespace characters.\n",
    "- `.` matches any character except the new line character n.\n",
    "- `*` zero or more occurrences.\n",
    "- `+` One or more occurrences. \n",
    "- `{}` Exactly specified number of occurrences.\n",
    "- `|` Either or.\n",
    "- `()` Capture and return a particular group.\n",
    "- `[]` returns a set of characters.\n",
    "- `\\` signals a specils sequence / also used to escape special characters.\n",
    "- `^` matches start with a parttern\n",
    "- `$` matches the ending pattern.\n",
    "  \n",
    "\n",
    "</font>"
   ],
   "metadata": {}
  },
  {
   "cell_type": "markdown",
   "source": [
    "<font size='4'>\n",
    "\n",
    "Let's clean the names of the recipients.\n"
   ],
   "metadata": {}
  },
  {
   "cell_type": "code",
   "execution_count": 7,
   "source": [
    "# words = []\n",
    "new_text  = \"So I will like you to be the ultimate beneficiary, so that the funds can be moved in\"\n",
    "re.findall(\"in$\", new_text)\n",
    "# for line in re.findall(\"Madam$\", fh):\n",
    "#     print(line)\n",
    "# words"
   ],
   "outputs": [
    {
     "output_type": "execute_result",
     "data": {
      "text/plain": [
       "['in']"
      ]
     },
     "metadata": {},
     "execution_count": 7
    }
   ],
   "metadata": {}
  },
  {
   "cell_type": "code",
   "execution_count": 8,
   "source": [
    "match  = re.findall(\"From:.*\", fh)\n",
    "\n",
    "for line in match:\n",
    "    print(re.findall('\\\".*\\\"', line))"
   ],
   "outputs": [
    {
     "output_type": "stream",
     "name": "stdout",
     "text": [
      "['\"Mr. Ben Suleman\"']\n",
      "['\"PRINCE OBONG ELEME\"']\n"
     ]
    }
   ],
   "metadata": {}
  },
  {
   "cell_type": "markdown",
   "source": [
    "<font size='4'>\n",
    "\n",
    "The backslash is a special character used for escaping other special characters"
   ],
   "metadata": {}
  },
  {
   "cell_type": "markdown",
   "source": [
    "<font size=\"4\" color = 'blue'>\n",
    "\n",
    "What if we want to find the email address instead?"
   ],
   "metadata": {}
  },
  {
   "cell_type": "code",
   "execution_count": 14,
   "source": [
    "match  = re.findall(\"From:.*\", fh)\n",
    "\n",
    "for line in match:\n",
    "    print(re.findall('\\w+\\S*@.*\\w', line))"
   ],
   "outputs": [
    {
     "output_type": "stream",
     "name": "stdout",
     "text": [
      "['bensul2004nng@spinfinder.com']\n",
      "['obong_715@epatra.com']\n"
     ]
    }
   ],
   "metadata": {}
  },
  {
   "cell_type": "markdown",
   "source": [
    "<font size=\"4\" color = 'blue'>\n",
    "\n",
    "What if we want to find the front part of the email address instead?"
   ],
   "metadata": {}
  },
  {
   "cell_type": "code",
   "execution_count": 15,
   "source": [
    "match  = re.findall(\"From:.*\", fh)\n",
    "\n",
    "for line in match:\n",
    "    print(re.findall('(\\w+\\S*)@', line))"
   ],
   "outputs": [
    {
     "output_type": "stream",
     "name": "stdout",
     "text": [
      "['bensul2004nng']\n",
      "['obong_715']\n"
     ]
    }
   ],
   "metadata": {}
  },
  {
   "cell_type": "markdown",
   "source": [
    "<font size=\"4\" color = 'blue'>\n",
    "\n",
    "What if we want to find the domain name of the email address instead?"
   ],
   "metadata": {}
  },
  {
   "cell_type": "code",
   "execution_count": 9,
   "source": [
    "myword = \"checkit123 chek2 che4\"\n",
    "re.findall(\"\\w+\", myword)"
   ],
   "outputs": [
    {
     "output_type": "execute_result",
     "data": {
      "text/plain": [
       "['checkit123', 'chek2', 'che4']"
      ]
     },
     "metadata": {},
     "execution_count": 9
    }
   ],
   "metadata": {}
  },
  {
   "cell_type": "markdown",
   "source": [
    "<font size = '4' color = 'gold'>\n",
    "\n",
    "## Common Python Regex Functions\n",
    "<font color = 'green'>\n",
    "re.findall() is undeniably useful, but it’s not the only built-in function that’s available to us in re:\n",
    "\n",
    "- re.search()\n",
    "- re.split()\n",
    "- re.sub()"
   ],
   "metadata": {}
  },
  {
   "cell_type": "markdown",
   "source": [
    "<font size='4' color='purple'>\n",
    "\n",
    "## 1. re.search()\n",
    "\n",
    "<font color='blue'>\n",
    "While re.findall() matches all instances of a pattern in a string and returns them in a list, re.search() matches the first instance of a pattern in a string, and returns it as a re match object."
   ],
   "metadata": {}
  },
  {
   "cell_type": "markdown",
   "source": [
    "johndoe@chaptrglobal.edu\n",
    "\n",
    "\n",
    "johndoe @ stmsh\n",
    "\\w+\\S*@.*\\w"
   ],
   "metadata": {}
  },
  {
   "cell_type": "code",
   "execution_count": 10,
   "source": [
    "match  = re.findall(\"From:.*\", fh)\n",
    "\n",
    "for line in match:\n",
    "    mail = re.search(\"\\w+\\S*@.*\\w\", line)\n",
    "    print(line[mail.start():mail.end()])\n"
   ],
   "outputs": [
    {
     "output_type": "stream",
     "name": "stdout",
     "text": [
      "bensul2004nng@spinfinder.com\n",
      "obong_715@epatra.com\n"
     ]
    }
   ],
   "metadata": {}
  },
  {
   "cell_type": "code",
   "execution_count": 11,
   "source": [
    "match  = re.findall(\"From:.*\", fh)\n",
    "\n",
    "for line in match:\n",
    "    re.search('\\w+\\S*@.*\\w', line)"
   ],
   "outputs": [],
   "metadata": {}
  },
  {
   "cell_type": "markdown",
   "source": [
    "<font size='4' color='purple'>\n",
    "\n",
    "## 2. re.split()\n",
    "\n",
    "<font color='blue'>\n",
    "Suppose we need a quick way to get the domain name of the email addresses. We could do it with three regex operations, like so:"
   ],
   "metadata": {}
  },
  {
   "cell_type": "code",
   "execution_count": 23,
   "source": [
    "import itertools\n",
    "match  = re.findall(\"From:.*\", fh)\n",
    "\n",
    "for line in match:\n",
    "    mail = re.search(\"\\w+\\S*@.*\\w\", line)\n",
    "    exact = line[mail.start():mail.end()]\n",
    "    firstsplit = re.split(\"@\", exact)\n",
    "    lists = [re.split(\"\\.\", word) for word in firstsplit]\n",
    "    print(list(itertools.chain(*lists)))"
   ],
   "outputs": [
    {
     "output_type": "stream",
     "name": "stdout",
     "text": [
      "['bensul2004nng', 'spinfinder', 'com']\n",
      "['obong_715', 'epatra', 'com']\n"
     ]
    }
   ],
   "metadata": {}
  },
  {
   "cell_type": "markdown",
   "source": [
    "<font size='4' color='purple'>\n",
    "\n",
    "## 3. re.sub()\n",
    "\n",
    "<font color='blue'>\n",
    "SAnother handy re function is re.sub(). As the function name suggests, it substitutes parts of a string."
   ],
   "metadata": {}
  },
  {
   "cell_type": "code",
   "execution_count": 13,
   "source": [
    "match  = re.findall(\"From:.*\", fh)\n",
    "\n",
    "for line in match:\n",
    "    print(re.sub(\"\\w+\\S*@.*\\w\", \"johndoe\", line))"
   ],
   "outputs": [
    {
     "output_type": "stream",
     "name": "stdout",
     "text": [
      "From: \"Mr. Ben Suleman\" <johndoe>\n",
      "From: \"PRINCE OBONG ELEME\" <johndoe>\n"
     ]
    }
   ],
   "metadata": {}
  },
  {
   "cell_type": "markdown",
   "source": [
    "# find sender\n",
    "#find the dates sents.\n",
    "# find all the words in phishy emails.\n",
    "# promotional....Hurry to , mega, I have recieved mine already.\n",
    "Open this link..... Click this [link](htps:randomword.com) htpps."
   ],
   "metadata": {}
  }
 ],
 "metadata": {
  "orig_nbformat": 4,
  "language_info": {
   "name": "python",
   "version": "3.8.5",
   "mimetype": "text/x-python",
   "codemirror_mode": {
    "name": "ipython",
    "version": 3
   },
   "pygments_lexer": "ipython3",
   "nbconvert_exporter": "python",
   "file_extension": ".py"
  },
  "kernelspec": {
   "name": "python3",
   "display_name": "Python 3.8.5 64-bit ('base': conda)"
  },
  "interpreter": {
   "hash": "ed0d95a605922d211e52511cf7748e98a38728cdd29efc499aa0077f6af9ea7a"
  }
 },
 "nbformat": 4,
 "nbformat_minor": 2
}