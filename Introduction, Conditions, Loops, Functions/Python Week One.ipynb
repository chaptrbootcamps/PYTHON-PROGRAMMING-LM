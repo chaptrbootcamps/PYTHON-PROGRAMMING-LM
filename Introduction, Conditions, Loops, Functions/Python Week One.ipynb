{
 "cells": [
  {
   "cell_type": "markdown",
   "metadata": {},
   "source": [
    "# PYTHON WEEK ONE"
   ]
  },
  {
   "cell_type": "code",
   "execution_count": null,
   "metadata": {},
   "outputs": [],
   "source": []
  },
  {
   "cell_type": "markdown",
   "metadata": {},
   "source": [
    "# 1. Installation and \"HELLO WORLD\""
   ]
  },
  {
   "cell_type": "code",
   "execution_count": 10,
   "metadata": {},
   "outputs": [
    {
     "name": "stdout",
     "output_type": "stream",
     "text": [
      "Hello World\n"
     ]
    }
   ],
   "source": [
    "print(\"Hello World\")"
   ]
  },
  {
   "cell_type": "code",
   "execution_count": 11,
   "metadata": {},
   "outputs": [
    {
     "name": "stdout",
     "output_type": "stream",
     "text": [
      "123\n"
     ]
    }
   ],
   "source": [
    "print(123)"
   ]
  },
  {
   "cell_type": "code",
   "execution_count": null,
   "metadata": {},
   "outputs": [],
   "source": []
  },
  {
   "cell_type": "markdown",
   "metadata": {},
   "source": [
    "#  Markdown \n",
    "----\n",
    "<pre>\n",
    "Headings use : #\n",
    "\n",
    "for bold : **word**\n",
    "for italics _word_ or *word*\n",
    "\n",
    "Unordered list use : - or *\n",
    "Ordered lists simply use numbers\n",
    "For lists you press tab to begin a sublist\n",
    "\n",
    "To write a paragraph as it is i use :\"pre\"\n",
    "To insert new lines : \"br\"\n",
    "\n",
    "Formulars : $ $\n",
    "Fractions : \\frac{Numerator}{Denominator}\n",
    "Superscripts in equations : ^ or ^{}\n",
    "Subscripts in qpuations : _ or _{}\n",
    "\n",
    "text links : [text](link)\n",
    "images : ![alternative text](link)\n",
    "\n",
    "To change font formating use the \"font\" tag and edit the properties\n",
    "\n",
    "Badges : check out : https://shields.io/ to create your custom badge\n",
    "For our twitter case , go to social ,then scroll to twitter and click ,\n",
    "you'll be redirected to another page. Edit the details to create your badge,\n",
    "Copy for Markdown\n",
    "\n",
    "OR\n",
    "\n",
    "https://img.shields.io/badge/LABEL-MESSAGE-COLOR\n",
    "\n",
    "</pre>\n"
   ]
  },
  {
   "cell_type": "code",
   "execution_count": null,
   "metadata": {},
   "outputs": [],
   "source": []
  },
  {
   "cell_type": "markdown",
   "metadata": {},
   "source": [
    "# Heading 1\n",
    "## Heading 2\n",
    "### Heading 3\n",
    "#### Heading 4\n",
    "##### Heading 5 \n",
    "###### Heading 6"
   ]
  },
  {
   "cell_type": "markdown",
   "metadata": {},
   "source": [
    "----\n",
    "### Fonts\n",
    "<font color = lightgreen>Chaptr 2021</font> <br>\n",
    "<font size = 7, font color = orange>Chaptr 2021</font> <br>\n",
    "<font color = yellow>Chaptr 2021</font> <br>"
   ]
  },
  {
   "cell_type": "markdown",
   "metadata": {},
   "source": [
    "----\n",
    "### Paragraph formatting\n",
    "<pre>\n",
    "Welcome To chaptr \n",
    "If you have any questions \n",
    "be sure to ask\n",
    "</pre>\n",
    "\n",
    "<br>\n",
    "Welcome To chaptr <br>\n",
    "If you have any questions <br>\n",
    "be sure to ask <br>\n",
    "\n",
    "----"
   ]
  },
  {
   "cell_type": "markdown",
   "metadata": {},
   "source": [
    "### Ordered and unordered Lists\n",
    "\n",
    "- Cars\n",
    "- House\n",
    "- Plants\n",
    "\n",
    "1. Cars\n",
    "2. House\n",
    "3. Plants    "
   ]
  },
  {
   "cell_type": "markdown",
   "metadata": {},
   "source": [
    "1. Cars\n",
    "    - BMW\n",
    "    - VOLVO\n",
    "    - MERCEDES\n",
    "2. Houses\n",
    "    1. Mansionnetes\n",
    "    2. Huts\n",
    "    3. Bedsitters\n",
    "3. Plants\n",
    "    * Maize\n",
    "    * Beans"
   ]
  },
  {
   "cell_type": "markdown",
   "metadata": {},
   "source": [
    "----\n",
    "### HyperLinks\n",
    "[Chaptr Global Home](https://chaptrglobal.com/)"
   ]
  },
  {
   "cell_type": "markdown",
   "metadata": {},
   "source": [
    "![Rhino](https://www.google.com/search?q=images&tbm=isch&source=iu&ictx=1&fir=cjZ0LilU5gLITM%252CVR-Fu_i6IKUJuM%252C_&vet=1&usg=AI4_-kQw3utABxLSIwIuh54DQauHxO4sJw&sa=X&ved=2ahUKEwiIpqrSg47zAhX0BWMBHfp5CykQ9QF6BAgIEAE#imgrc=cjZ0LilU5gLITM)"
   ]
  },
  {
   "cell_type": "markdown",
   "metadata": {},
   "source": [
    "![Rhino](data:image/jpeg;base64,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)"
   ]
  },
  {
   "cell_type": "markdown",
   "metadata": {},
   "source": [
    "----\n",
    "### Badges\n",
    "![twitter](https://img.shields.io/badge/twitter/url?url=https://twitter.com/StateHouseKenya?ref_src=twsrc%5Egoogle%7Ctwcamp%5Eserp%7Ctwgr%5Eauthor)\n",
    "\n",
    "![Twitter Follow](https://img.shields.io/twitter/follow/StateHouseKenya?style=social)\n",
    "\n",
    "![Twitter URL](https://img.shields.io/twitter/url?label=StateHouseKenya&style=social&url=https%3A%2F%2Ftwitter.com%2FStateHouseKenya%3Fref_src%3Dtwsrc%255Egoogle%257Ctwcamp%255Eserp%257Ctwgr%255Eauthor)\n",
    "\n",
    "![HTML](https://img.shields.io/badge/HTML-5-yellowgreen)<br>\n",
    "![HTML](https://img.shields.io/badge/HTML-orange) ![PYTHON](https://img.shields.io/badge/PYTHON-blue) ![SQL](https://img.shields.io/badge/SQL-grey)"
   ]
  },
  {
   "cell_type": "markdown",
   "metadata": {},
   "source": [
    "----\n",
    "### Writing Equations in Markdowns\n",
    "\n",
    "$e^{i\\pi} + 1 = 0$\n",
    "$$e^{i\\pi} + 1 = 0$$\n",
    "\n",
    "<font size=4>\n",
    "$e^x=\\sum_{i=0}^{12} \\frac{1}{i!}x^i$\n",
    "$$e^x=\\sum_{i=0}^{12} \\frac{1}{i!}x^i$$\n",
    "</font>\n",
    "\n",
    "$\\begin{equation*}\n",
    "e^x=\\sum_{i=n}^{m} \\frac{1}{i!}x^i\n",
    "\\end{equation*}$\n",
    "\n",
    "\n",
    "$\\left(e^x=\\sum_{i=n}^{m} \\frac{1}{i!}x^i\\right)$\n",
    "\n",
    "<font size=4>\n",
    "$e^x=\\sum_{i=0}^\\infty \\frac{1}{i!}x^i$\n",
    "</font >\n",
    "\n",
    "### Writing Matrices in Markdowns\n",
    "$\\begin{bmatrix}\n",
    "1 & 2 & 3 \\\\\n",
    "a & b & c \\\\\n",
    "a & b & c \\\\\n",
    "\\end{bmatrix}$\n",
    "\n",
    "$\\left(\\begin{array}{cc} a & b \\\\ c & d \\end{array}\\right)$\n",
    "\n",
    "\n",
    "$\\begin{equation*}\n",
    "A_{m,n} = \n",
    "\\begin{pmatrix}\n",
    "a_{1,1} & a_{1,2} & \\cdots & a_{1,n} \\\\\n",
    "a_{2,1} & a_{2,2} & \\cdots & a_{2,n} \\\\\n",
    "\\vdots  & \\vdots  & \\ddots & \\vdots  \\\\\n",
    "a_{m,1} & a_{m,2} & \\cdots & a_{m,n} \n",
    "\\end{pmatrix}\n",
    "\\end{equation*}$"
   ]
  },
  {
   "cell_type": "markdown",
   "metadata": {},
   "source": [
    "----\n",
    "### Tables\n",
    "\n",
    "| |Student |Marks|\n",
    "|-|--------|-----|\n",
    "|1|Newton | 93|\n",
    "|2|Cauchy | 90.13|\n",
    "|3|Isaac | 89|\n",
    "|4|Laplace| 87.4|\n",
    "|5|Euler |83|"
   ]
  },
  {
   "cell_type": "code",
   "execution_count": null,
   "metadata": {},
   "outputs": [],
   "source": []
  },
  {
   "cell_type": "markdown",
   "metadata": {},
   "source": [
    "## 2. Variables, Expressions, & Statements"
   ]
  },
  {
   "cell_type": "markdown",
   "metadata": {},
   "source": [
    "## Variables"
   ]
  },
  {
   "cell_type": "code",
   "execution_count": 12,
   "metadata": {},
   "outputs": [
    {
     "data": {
      "text/plain": [
       "int"
      ]
     },
     "execution_count": 12,
     "metadata": {},
     "output_type": "execute_result"
    }
   ],
   "source": [
    "a = 2\n",
    "type(a)"
   ]
  },
  {
   "cell_type": "code",
   "execution_count": 13,
   "metadata": {},
   "outputs": [
    {
     "data": {
      "text/plain": [
       "float"
      ]
     },
     "execution_count": 13,
     "metadata": {},
     "output_type": "execute_result"
    }
   ],
   "source": [
    "a = 2.2\n",
    "type(a)"
   ]
  },
  {
   "cell_type": "code",
   "execution_count": 2,
   "metadata": {},
   "outputs": [],
   "source": [
    "A = 2\r\n",
    "b = \"Chaptr\"\r\n",
    "c = 4.32\r\n",
    "d = True"
   ]
  },
  {
   "cell_type": "markdown",
   "metadata": {},
   "source": [
    "## Expressions"
   ]
  },
  {
   "cell_type": "code",
   "execution_count": 2,
   "metadata": {},
   "outputs": [
    {
     "data": {
      "text/plain": [
       "9"
      ]
     },
     "execution_count": 2,
     "metadata": {},
     "output_type": "execute_result"
    }
   ],
   "source": [
    "3+2 # Addition\n",
    "3-2 # Subtraction\n",
    "3%2 # Modulus\n",
    "3/2 # Division\n",
    "3*2 # Multiplication\n",
    "3**2 # power "
   ]
  },
  {
   "cell_type": "code",
   "execution_count": 3,
   "metadata": {},
   "outputs": [
    {
     "name": "stdout",
     "output_type": "stream",
     "text": [
      "15.0 \n",
      " 15 \n",
      " 0\n"
     ]
    }
   ],
   "source": [
    "print(45/3.0, \"\\n\", 45//3, \"\\n\", 45%3 )"
   ]
  },
  {
   "cell_type": "code",
   "execution_count": 18,
   "metadata": {},
   "outputs": [
    {
     "data": {
      "text/plain": [
       "33"
      ]
     },
     "execution_count": 18,
     "metadata": {},
     "output_type": "execute_result"
    }
   ],
   "source": [
    "b = 33 # Assignment operator\r\n",
    "b"
   ]
  },
  {
   "cell_type": "code",
   "execution_count": 19,
   "metadata": {},
   "outputs": [
    {
     "data": {
      "text/plain": [
       "True"
      ]
     },
     "execution_count": 19,
     "metadata": {},
     "output_type": "execute_result"
    }
   ],
   "source": [
    "b == 33 # Comparison Operator"
   ]
  },
  {
   "cell_type": "code",
   "execution_count": 20,
   "metadata": {},
   "outputs": [
    {
     "data": {
      "text/plain": [
       "False"
      ]
     },
     "execution_count": 20,
     "metadata": {},
     "output_type": "execute_result"
    }
   ],
   "source": [
    "b == 22"
   ]
  },
  {
   "cell_type": "code",
   "execution_count": 21,
   "metadata": {},
   "outputs": [
    {
     "data": {
      "text/plain": [
       "True"
      ]
     },
     "execution_count": 21,
     "metadata": {},
     "output_type": "execute_result"
    }
   ],
   "source": [
    "b != 22"
   ]
  },
  {
   "cell_type": "code",
   "execution_count": 6,
   "metadata": {},
   "outputs": [],
   "source": [
    "# != Not Edual to\n",
    "# < , >  greater than and less than\n",
    "# <= , >= greater/less than and equal to"
   ]
  },
  {
   "cell_type": "code",
   "execution_count": 7,
   "metadata": {},
   "outputs": [
    {
     "data": {
      "text/plain": [
       "False"
      ]
     },
     "execution_count": 7,
     "metadata": {},
     "output_type": "execute_result"
    }
   ],
   "source": [
    "c,n = 212 ,99\r\n",
    "c < n"
   ]
  },
  {
   "cell_type": "code",
   "execution_count": 23,
   "metadata": {},
   "outputs": [
    {
     "name": "stdout",
     "output_type": "stream",
     "text": [
      "12\n",
      "11\n",
      "1\n",
      "2\n"
     ]
    }
   ],
   "source": [
    "x = 12\n",
    "x =- 1 # Assignment --- Similar to x = -1\n",
    "print(x)\n",
    "x -= 1 # decrement\n",
    "print(x)\n",
    "x =+ 1 # Assignment --- Similar to x = +1\n",
    "print(x)\n",
    "x += 1 # Increment\n",
    "print(x)"
   ]
  },
  {
   "cell_type": "code",
   "execution_count": null,
   "metadata": {},
   "outputs": [],
   "source": []
  },
  {
   "cell_type": "code",
   "execution_count": null,
   "metadata": {},
   "outputs": [],
   "source": []
  },
  {
   "cell_type": "markdown",
   "metadata": {},
   "source": [
    "## 3. Conditional Execution, Loops and Functions"
   ]
  },
  {
   "cell_type": "markdown",
   "metadata": {},
   "source": [
    "### Conditionals "
   ]
  },
  {
   "cell_type": "code",
   "execution_count": null,
   "metadata": {},
   "outputs": [],
   "source": [
    "if (condition):\n",
    "    statement"
   ]
  },
  {
   "cell_type": "code",
   "execution_count": null,
   "metadata": {},
   "outputs": [],
   "source": [
    "if ():\n",
    "    st\n",
    "else:"
   ]
  },
  {
   "cell_type": "code",
   "execution_count": null,
   "metadata": {},
   "outputs": [],
   "source": [
    "if ():\n",
    "    st\n",
    "elif():\n",
    "    st\n",
    "elif():\n",
    "    st\n",
    "else:\n",
    "    st"
   ]
  },
  {
   "cell_type": "code",
   "execution_count": null,
   "metadata": {},
   "outputs": [],
   "source": [
    "if c>n:\n",
    "    print(\"Went here\")\n",
    "    print(c,\" is larger \",n)\n",
    "else:\n",
    "    print(\"Went here\")\n",
    "    print(n,\" is larger \",c)"
   ]
  },
  {
   "cell_type": "code",
   "execution_count": null,
   "metadata": {},
   "outputs": [],
   "source": [
    "name = \"Charles\"\n",
    "\n",
    "if name == \"Peter\":\n",
    "    print(\"True\")\n",
    "else:\n",
    "    print(name)"
   ]
  },
  {
   "cell_type": "code",
   "execution_count": null,
   "metadata": {},
   "outputs": [],
   "source": [
    "# Grading System\n",
    "# Grade should be between 100 and  0\n",
    "# More than 80 , grae =A\n",
    "# 79-70 ,B\n",
    "# 69-60 , C\n",
    "# 59-50 , D\n",
    "# less than 50, E"
   ]
  },
  {
   "cell_type": "code",
   "execution_count": null,
   "metadata": {},
   "outputs": [],
   "source": [
    "#Try it with the following inputs\n",
    "45, 66.7, 100"
   ]
  },
  {
   "cell_type": "code",
   "execution_count": null,
   "metadata": {},
   "outputs": [],
   "source": [
    "# WRITE YOUR CODE HERE"
   ]
  },
  {
   "cell_type": "code",
   "execution_count": null,
   "metadata": {},
   "outputs": [],
   "source": []
  },
  {
   "cell_type": "markdown",
   "metadata": {},
   "source": [
    "### LOOPS\n",
    "```\n",
    "*\n",
    "* *\n",
    "* * *\n",
    "* * * *\n",
    "* * * * *\n",
    "* * * * * *\n",
    "* * * * *\n",
    "* * * *\n",
    "* * *\n",
    "* *\n",
    "* \n",
    "```"
   ]
  },
  {
   "cell_type": "markdown",
   "metadata": {},
   "source": [
    "Loops can create patterns like the one above <br>\n",
    "Loops work with all iterable objects ; in python this include strings , list, dictionaries which you'll learn about later on\n",
    "\n",
    "#### while and for loops"
   ]
  },
  {
   "cell_type": "code",
   "execution_count": null,
   "metadata": {},
   "outputs": [],
   "source": [
    "while (condtion to be met):\r\n",
    "    what to do"
   ]
  },
  {
   "cell_type": "code",
   "execution_count": null,
   "metadata": {},
   "outputs": [],
   "source": [
    "for item in iterable :\r\n",
    "    do xyz"
   ]
  },
  {
   "cell_type": "code",
   "execution_count": null,
   "metadata": {
    "tags": []
   },
   "outputs": [],
   "source": [
    "number  = 5\r\n",
    "while number < 20:\r\n",
    "    print(number)\r\n",
    "    number += 1"
   ]
  },
  {
   "cell_type": "code",
   "execution_count": null,
   "metadata": {},
   "outputs": [],
   "source": [
    "for i in range(10 , 0 , -1 ):\r\n",
    "    if i == 5:\r\n",
    "        break;\r\n",
    "    print(i) "
   ]
  },
  {
   "cell_type": "code",
   "execution_count": null,
   "metadata": {},
   "outputs": [],
   "source": [
    "for i in \"Chaptr 2021 Global\": \r\n",
    "    print(i) "
   ]
  },
  {
   "cell_type": "code",
   "execution_count": null,
   "metadata": {},
   "outputs": [],
   "source": [
    "for i in range(6):\r\n",
    "    for j in range(i):\r\n",
    "        print(\"*\",end=' ')\r\n",
    "    print(\"\\n\")"
   ]
  },
  {
   "cell_type": "code",
   "execution_count": null,
   "metadata": {},
   "outputs": [],
   "source": [
    "for i in range(6,0,-1):\r\n",
    "    for j in range(i):\r\n",
    "        print(\"*\",end=' ')\r\n",
    "    print(\"\\n\")"
   ]
  },
  {
   "cell_type": "code",
   "execution_count": null,
   "metadata": {},
   "outputs": [],
   "source": []
  },
  {
   "cell_type": "markdown",
   "metadata": {},
   "source": [
    "### Functions"
   ]
  },
  {
   "cell_type": "code",
   "execution_count": null,
   "metadata": {},
   "outputs": [],
   "source": [
    "def function_name (parameters):\n",
    "    #what to do\n",
    "    return"
   ]
  },
  {
   "cell_type": "code",
   "execution_count": null,
   "metadata": {},
   "outputs": [],
   "source": [
    "def age (year_born , current_year): \n",
    "    return current_year - year_born \n",
    "\n",
    "persons_age = age(1997,2021)\n",
    "print(persons_age)"
   ]
  },
  {
   "cell_type": "code",
   "execution_count": null,
   "metadata": {},
   "outputs": [],
   "source": [
    "def calc(large,small,medium=6): #\n",
    "    return large - small*medium\n",
    "\n",
    "calc(9,3, medium=1)"
   ]
  },
  {
   "cell_type": "code",
   "execution_count": null,
   "metadata": {},
   "outputs": [],
   "source": [
    "# Default arguments always follow non-default argument  \n",
    "# for the example above if we were to switch medium to before any of the other parameters it would result in an error\n",
    "def calc(medium=6,large,small):\n",
    "    return large - small*medium\n",
    "\n",
    "calc(9,3, medium=1)"
   ]
  },
  {
   "cell_type": "code",
   "execution_count": null,
   "metadata": {},
   "outputs": [],
   "source": [
    "# List mapping will be explained after Lists\n",
    "# Lambda and apply functions will be explained after Pandas\n",
    "# Better explained after pandas"
   ]
  },
  {
   "cell_type": "code",
   "execution_count": null,
   "metadata": {},
   "outputs": [],
   "source": [
    "# recursion\n",
    "def add_consecutive_numbers(number , TIMES_TO_ADD):\n",
    "    global start_number\n",
    "    if TIMES_TO_ADD > 0 :\n",
    "        TIMES_TO_ADD -= 1\n",
    "        start_number += number\n",
    "        return add_consecutive_numbers(number+1 , TIMES_TO_ADD)\n",
    "    else : \n",
    "        return start_number\n",
    "     "
   ]
  },
  {
   "cell_type": "code",
   "execution_count": null,
   "metadata": {},
   "outputs": [],
   "source": [
    "start_number = 2\n",
    "result  = add_consecutive_numbers(start_number+1 , 12)\n",
    "result "
   ]
  },
  {
   "cell_type": "code",
   "execution_count": null,
   "metadata": {},
   "outputs": [],
   "source": [
    "2+3+4+5+6+7+8+9+10+11+12+13+14"
   ]
  },
  {
   "cell_type": "code",
   "execution_count": null,
   "metadata": {},
   "outputs": [],
   "source": []
  },
  {
   "cell_type": "code",
   "execution_count": null,
   "metadata": {},
   "outputs": [],
   "source": []
  },
  {
   "cell_type": "markdown",
   "metadata": {},
   "source": [
    "# EXERCISE\n",
    "#### WRITE CODE TO CREATE THE FOLLOWING PATTERNS"
   ]
  },
  {
   "cell_type": "markdown",
   "metadata": {},
   "source": [
    "```\n",
    "* \n",
    "* * \n",
    "* * * \n",
    "* * * *\n",
    "```"
   ]
  },
  {
   "cell_type": "code",
   "execution_count": null,
   "metadata": {},
   "outputs": [],
   "source": []
  },
  {
   "cell_type": "markdown",
   "metadata": {},
   "source": [
    "### Next\n",
    "```\n",
    "* * * *\n",
    "* * * \n",
    "* *\n",
    "*\n",
    "```"
   ]
  },
  {
   "cell_type": "code",
   "execution_count": null,
   "metadata": {},
   "outputs": [],
   "source": []
  },
  {
   "cell_type": "markdown",
   "metadata": {},
   "source": [
    "### Next\n",
    "```\n",
    "   * \n",
    "  * * \n",
    " * * * \n",
    "* * * * \n",
    "```"
   ]
  },
  {
   "cell_type": "code",
   "execution_count": null,
   "metadata": {},
   "outputs": [],
   "source": []
  },
  {
   "cell_type": "markdown",
   "metadata": {},
   "source": [
    "### Next\n",
    "```\n",
    "* * * * \n",
    " * * *  \n",
    "  * *\n",
    "   *\n",
    "``` "
   ]
  },
  {
   "cell_type": "code",
   "execution_count": null,
   "metadata": {},
   "outputs": [],
   "source": []
  },
  {
   "cell_type": "markdown",
   "metadata": {},
   "source": [
    "### Next\n",
    "```  \n",
    "   * \n",
    "  * * \n",
    " * * * \n",
    "* * * * \n",
    "  * *\n",
    "  * *\n",
    "```"
   ]
  },
  {
   "cell_type": "code",
   "execution_count": null,
   "metadata": {},
   "outputs": [],
   "source": []
  },
  {
   "cell_type": "markdown",
   "metadata": {},
   "source": [
    "### Next\n",
    "```   \n",
    "    * \n",
    "   * * \n",
    "  * * * \n",
    " * * * * \n",
    "* * * * * \n",
    " * * * * \n",
    "  * * *  \n",
    "   * *\n",
    "    *\n",
    "```"
   ]
  },
  {
   "cell_type": "code",
   "execution_count": null,
   "metadata": {},
   "outputs": [],
   "source": []
  },
  {
   "cell_type": "markdown",
   "metadata": {},
   "source": [
    "### Next\n",
    "```\n",
    " * * * * \n",
    "  * * *  \n",
    "   * *  \n",
    "    * \n",
    "   * * \n",
    "  * * * \n",
    " * * * * \n",
    " ```\n"
   ]
  },
  {
   "cell_type": "code",
   "execution_count": null,
   "metadata": {},
   "outputs": [],
   "source": []
  },
  {
   "cell_type": "code",
   "execution_count": null,
   "metadata": {},
   "outputs": [],
   "source": []
  },
  {
   "cell_type": "markdown",
   "metadata": {},
   "source": [
    "### Write a function that takes in weight and height and calculates the BMI of an individual"
   ]
  },
  {
   "cell_type": "code",
   "execution_count": null,
   "metadata": {},
   "outputs": [],
   "source": []
  },
  {
   "cell_type": "markdown",
   "metadata": {},
   "source": [
    "### Write a function to compute the fibonnacci sequence \n",
    "#### 1, 1, 2, 3, 5, 8, 13, 21, 34....\n",
    "#### (Given a number n it should compute the fibonacci number at position n)\n",
    "#### e.g from th above, fibonacci for n = 4 is 5 and fibonacci for n = 9 i1 34 "
   ]
  },
  {
   "cell_type": "code",
   "execution_count": null,
   "metadata": {},
   "outputs": [],
   "source": []
  },
  {
   "cell_type": "code",
   "execution_count": null,
   "metadata": {},
   "outputs": [],
   "source": []
  },
  {
   "cell_type": "code",
   "execution_count": null,
   "metadata": {},
   "outputs": [],
   "source": []
  }
 ],
 "metadata": {
  "kernelspec": {
   "display_name": "Python 3",
   "language": "python",
   "name": "python3"
  },
  "language_info": {
   "codemirror_mode": {
    "name": "ipython",
    "version": 3
   },
   "file_extension": ".py",
   "mimetype": "text/x-python",
   "name": "python",
   "nbconvert_exporter": "python",
   "pygments_lexer": "ipython3",
   "version": "3.7.4"
  }
 },
 "nbformat": 4,
 "nbformat_minor": 4
}
