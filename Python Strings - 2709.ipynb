{
 "cells": [
  {
   "cell_type": "markdown",
   "source": [
    "\r\n",
    "# Python Data Types\r\n",
    "1. Python numbers \r\n",
    "2. Python Lists \r\n",
    "3. Python Tuples\r\n",
    "4. Python Strings \r\n",
    "5. Python Sets \r\n",
    "6. Python dictionaries "
   ],
   "metadata": {}
  },
  {
   "cell_type": "markdown",
   "source": [
    "<h2>WHAT WE WILL COVER</h2>\r\n",
    "<div class=\"alert alert-block alert-info\" style=\"margin-top: 20px\">\r\n",
    "    <ul>\r\n",
    "        <li>\r\n",
    "            <a href=\"https://#strings\">What are Strings?</a>\r\n",
    "        </li>\r\n",
    "        <li>\r\n",
    "            <a href=\"https://#index\">Indexing</a>\r\n",
    "            <ul>\r\n",
    "                <li><a href=\"https://neg/?utm_medium=Exinfluencer&utm_source=Exinfluencer&utm_content=000026UJ&utm_term=10006555&utm_id=NA-SkillsNetwork-Channel-SkillsNetworkCoursesIBMDeveloperSkillsNetworkPY0101ENSkillsNetwork19487395-2021-01-01\">Negative Indexing</a></li>\r\n",
    "                <li><a href=\"https://slice/?utm_medium=Exinfluencer&utm_source=Exinfluencer&utm_content=000026UJ&utm_term=10006555&utm_id=NA-SkillsNetwork-Channel-SkillsNetworkCoursesIBMDeveloperSkillsNetworkPY0101ENSkillsNetwork19487395-2021-01-01\">Slicing</a></li>\r\n",
    "                <li><a href=\"https://stride/?utm_medium=Exinfluencer&utm_source=Exinfluencer&utm_content=000026UJ&utm_term=10006555&utm_id=NA-SkillsNetwork-Channel-SkillsNetworkCoursesIBMDeveloperSkillsNetworkPY0101ENSkillsNetwork19487395-2021-01-01\">Stride</a></li>\r\n",
    "                <li><a href=\"https://concat/?utm_medium=Exinfluencer&utm_source=Exinfluencer&utm_content=000026UJ&utm_term=10006555&utm_id=NA-SkillsNetwork-Channel-SkillsNetworkCoursesIBMDeveloperSkillsNetworkPY0101ENSkillsNetwork19487395-2021-01-01\">Concatenate Strings</a></li>\r\n",
    "            </ul>\r\n",
    "        </li>\r\n",
    "        <li>\r\n",
    "            <a href=\"https://#escape\">Escape Sequences</a>\r\n",
    "        </li>\r\n",
    "        <li>\r\n",
    "            <a href=\"https://#operations\">String Operations</a>\r\n",
    "        </li>\r\n",
    "        <li>\r\n",
    "            <a href=\"https://#quiz\">Quiz on Strings</a>\r\n",
    "        </li>\r\n",
    "    </ul>\r\n",
    "\r\n",
    "</div>\r\n",
    "\r\n",
    "<hr>\r\n"
   ],
   "metadata": {}
  },
  {
   "cell_type": "code",
   "execution_count": null,
   "source": [
    "# Use quotation marks for defining string\r\n",
    "# # Use single quotation marks for defining string\r\n",
    "# Use trippl quotation marks for multiple lines"
   ],
   "outputs": [],
   "metadata": {}
  },
  {
   "cell_type": "code",
   "execution_count": 8,
   "source": [
    "my_string='I\\'m ready to become and element of the set of people who understand sets'\r\n",
    "print(my_string)"
   ],
   "outputs": [
    {
     "output_type": "stream",
     "name": "stdout",
     "text": [
      "I'm ready to become and element of the set of people who understand sets\n"
     ]
    }
   ],
   "metadata": {}
  },
  {
   "cell_type": "code",
   "execution_count": 10,
   "source": [
    "multiline_mg=\"\"\"We will use the same \r\n",
    "example in subsequent\r\n",
    " classess\"\"\"\r\n",
    "\r\n",
    "print(multiline_mg)"
   ],
   "outputs": [
    {
     "output_type": "stream",
     "name": "stdout",
     "text": [
      "We will use the same \n",
      "example in subsequent\n",
      " classess\n"
     ]
    }
   ],
   "metadata": {}
  },
  {
   "cell_type": "code",
   "execution_count": 15,
   "source": [
    "combined=my_string+\" \"+my_string\r\n",
    "my_string2='All on the call'\r\n",
    "print(combined)"
   ],
   "outputs": [
    {
     "output_type": "stream",
     "name": "stdout",
     "text": [
      "I'm ready to become and element of the set of people who understand sets I'm ready to become and element of the set of people who understand sets\n"
     ]
    }
   ],
   "metadata": {}
  },
  {
   "cell_type": "code",
   "execution_count": 16,
   "source": [
    "print('{},{}'.format(my_string,my_string2))"
   ],
   "outputs": [
    {
     "output_type": "stream",
     "name": "stdout",
     "text": [
      "I'm ready to become and element of the set of people who understand sets,All on the call\n"
     ]
    }
   ],
   "metadata": {}
  },
  {
   "cell_type": "markdown",
   "source": [
    "#### Accessing characters within a string . "
   ],
   "metadata": {}
  },
  {
   "cell_type": "markdown",
   "source": [
    "<h2 id=\"index\">Indexing</h2>\r\n",
    "\r\n",
    "It is helpful to think of a string as an ordered sequence. Each element in the sequence can be accessed using an index represented by the array of numbers:\r\n",
    "\r\n",
    "<img src=\"https://cf-courses-data.s3.us.cloud-object-storage.appdomain.cloud/IBMDeveloperSkillsNetwork-PY0101EN-SkillsNetwork/labs/Module%201/images/StringsIndex.png\" width=\"600\" align=\"center\" />\r\n",
    "\r\n",
    "The first index can be accessed as follows:\r\n"
   ],
   "metadata": {}
  },
  {
   "cell_type": "code",
   "execution_count": 92,
   "source": [
    "string='PYTHON'\r\n",
    "string[0]"
   ],
   "outputs": [
    {
     "output_type": "execute_result",
     "data": {
      "text/plain": [
       "'P'"
      ]
     },
     "metadata": {},
     "execution_count": 92
    }
   ],
   "metadata": {}
  },
  {
   "cell_type": "code",
   "execution_count": 34,
   "source": [
    "string='PYTHON'\r\n",
    "string[1]"
   ],
   "outputs": [
    {
     "output_type": "execute_result",
     "data": {
      "text/plain": [
       "'Y'"
      ]
     },
     "metadata": {},
     "execution_count": 34
    }
   ],
   "metadata": {}
  },
  {
   "cell_type": "markdown",
   "source": [
    "<h3 id=\"slice\">Slicing</h3>\r\n",
    "\r\n",
    "We can obtain multiple characters from a string using slicing, we can obtain the 0 to 4th and 8th to the 12th element:\r\n",
    "\r\n",
    "<img src=\"https://cf-courses-data.s3.us.cloud-object-storage.appdomain.cloud/IBMDeveloperSkillsNetwork-PY0101EN-SkillsNetwork/labs/Module%201/images/StringsSlice.png\" width=\"600\" align=\"center\" />\r\n",
    "\r\n",
    "<hr/>\r\n",
    "<div class=\"alert alert-success alertsuccess\" style=\"margin-top: 20px\">\r\n",
    "[Tip]: When taking the slice, the first number means the index (start at 0), and the second number means the length from the index to the last element you want (start at 1)\r\n",
    "</div>\r\n",
    "<hr/>"
   ],
   "metadata": {}
  },
  {
   "cell_type": "code",
   "execution_count": 32,
   "source": [
    "my_string[10:len(my_string)]"
   ],
   "outputs": [
    {
     "output_type": "execute_result",
     "data": {
      "text/plain": [
       "'to become and element of the set of people who understand sets'"
      ]
     },
     "metadata": {},
     "execution_count": 32
    }
   ],
   "metadata": {}
  },
  {
   "cell_type": "code",
   "execution_count": 46,
   "source": [
    "for i in string[::-1]:\r\n",
    "    print(i)"
   ],
   "outputs": [
    {
     "output_type": "stream",
     "name": "stdout",
     "text": [
      "N\n",
      "O\n",
      "H\n",
      "T\n",
      "Y\n",
      "P\n"
     ]
    }
   ],
   "metadata": {}
  },
  {
   "cell_type": "code",
   "execution_count": 52,
   "source": [
    "i=0\r\n",
    "for n in range(-1,-(len(string)),-1):\r\n",
    "    print(string[i],\"\\t\",string[n])\r\n",
    "    i+=1\r\n",
    "    "
   ],
   "outputs": [
    {
     "output_type": "stream",
     "name": "stdout",
     "text": [
      "P \t N\n",
      "Y \t O\n",
      "T \t H\n",
      "H \t T\n",
      "O \t Y\n"
     ]
    }
   ],
   "metadata": {}
  },
  {
   "cell_type": "code",
   "execution_count": 53,
   "source": [
    "# string[start:stop:step]\r\n",
    "string[-1::-1]"
   ],
   "outputs": [
    {
     "output_type": "execute_result",
     "data": {
      "text/plain": [
       "'NOHTYP'"
      ]
     },
     "metadata": {},
     "execution_count": 53
    }
   ],
   "metadata": {}
  },
  {
   "cell_type": "markdown",
   "source": [
    "<h2 id=\"operations\">String Operations</h2>"
   ],
   "metadata": {}
  },
  {
   "cell_type": "code",
   "execution_count": 54,
   "source": [
    "### Breaking apart strings \r\n",
    "#partition\r\n",
    "# split \r\n",
    "# join \r\n",
    "\r\n",
    "my_string"
   ],
   "outputs": [
    {
     "output_type": "execute_result",
     "data": {
      "text/plain": [
       "\"I'm ready to become and element of the set of people who understand sets\""
      ]
     },
     "metadata": {},
     "execution_count": 54
    }
   ],
   "metadata": {}
  },
  {
   "cell_type": "code",
   "execution_count": 58,
   "source": [
    "my_string.split(\" \")"
   ],
   "outputs": [
    {
     "output_type": "execute_result",
     "data": {
      "text/plain": [
       "[\"I'm\",\n",
       " 'ready',\n",
       " 'to',\n",
       " 'become',\n",
       " 'and',\n",
       " 'element',\n",
       " 'of',\n",
       " 'the',\n",
       " 'set',\n",
       " 'of',\n",
       " 'people',\n",
       " 'who',\n",
       " 'understand',\n",
       " 'sets']"
      ]
     },
     "metadata": {},
     "execution_count": 58
    }
   ],
   "metadata": {}
  },
  {
   "cell_type": "code",
   "execution_count": 63,
   "source": [
    "complex_string='Felix -> Albert -> Lucy -> Javas'\r\n",
    "print(f'{complex_string.upper()}')\r\n",
    "\r\n",
    "complex_string.partition('->')"
   ],
   "outputs": [
    {
     "output_type": "stream",
     "name": "stdout",
     "text": [
      "FELIX -> ALBERT -> LUCY -> JAVAS\n"
     ]
    },
    {
     "output_type": "execute_result",
     "data": {
      "text/plain": [
       "('Felix ', '->', ' Albert -> Lucy -> Javas')"
      ]
     },
     "metadata": {},
     "execution_count": 63
    }
   ],
   "metadata": {}
  },
  {
   "cell_type": "code",
   "execution_count": 65,
   "source": [
    "complex_string.replace('Felix','chris'.capitalize())"
   ],
   "outputs": [
    {
     "output_type": "execute_result",
     "data": {
      "text/plain": [
       "'Chris -> Albert -> Lucy -> Javas'"
      ]
     },
     "metadata": {},
     "execution_count": 65
    }
   ],
   "metadata": {}
  },
  {
   "cell_type": "code",
   "execution_count": 68,
   "source": [
    "complex_string.count('s')\r\n",
    "complex_string.find('s')\r\n",
    "print(len(complex_string))"
   ],
   "outputs": [
    {
     "output_type": "stream",
     "name": "stdout",
     "text": [
      "32\n"
     ]
    }
   ],
   "metadata": {}
  },
  {
   "cell_type": "code",
   "execution_count": 74,
   "source": [
    "string=string.replace('N','V')"
   ],
   "outputs": [],
   "metadata": {}
  },
  {
   "cell_type": "code",
   "execution_count": 78,
   "source": [
    "print('PYTHON '*10)"
   ],
   "outputs": [
    {
     "output_type": "stream",
     "name": "stdout",
     "text": [
      "PYTHON PYTHON PYTHON PYTHON PYTHON PYTHON PYTHON PYTHON PYTHON PYTHON \n"
     ]
    }
   ],
   "metadata": {}
  },
  {
   "cell_type": "code",
   "execution_count": 82,
   "source": [
    "count_of_letters=0\r\n",
    "# iterating through letters\r\n",
    "\r\n",
    "for i in my_string:\r\n",
    "    if(i=='o'):\r\n",
    "        count_of_letters+=1\r\n",
    "\r\n",
    "print(count_of_letters, 'letters found')"
   ],
   "outputs": [
    {
     "output_type": "stream",
     "name": "stdout",
     "text": [
      "6 letters found\n"
     ]
    }
   ],
   "metadata": {}
  },
  {
   "cell_type": "code",
   "execution_count": 83,
   "source": [
    "my_string"
   ],
   "outputs": [
    {
     "output_type": "execute_result",
     "data": {
      "text/plain": [
       "\"I'm ready to become and element of the set of people who understand sets\""
      ]
     },
     "metadata": {},
     "execution_count": 83
    }
   ],
   "metadata": {}
  },
  {
   "cell_type": "code",
   "execution_count": 85,
   "source": [
    "print('ready' in my_string)"
   ],
   "outputs": [
    {
     "output_type": "stream",
     "name": "stdout",
     "text": [
      "False\n"
     ]
    }
   ],
   "metadata": {}
  },
  {
   "cell_type": "markdown",
   "source": [
    "<h2 id=\"escape\">Escape Sequences</h2>\r\n",
    "\r\n",
    "Back slashes represent the beginning  of escape sequences. Escape sequences represent strings that may be difficult to input. For example, back slash \"n\" represents a new line. The output is given by a new line after the back slash \"n\" is encountered:\r\n",
    "\r\n",
    "# New line escape sequence\r\n",
    "\r\n"
   ],
   "metadata": {}
  },
  {
   "cell_type": "code",
   "execution_count": 87,
   "source": [
    "print(\"I have a bunch of characters \\n to write in this instance\")"
   ],
   "outputs": [
    {
     "output_type": "stream",
     "name": "stdout",
     "text": [
      "I have a bunch of characters \n",
      " to write in this instance\n"
     ]
    }
   ],
   "metadata": {}
  },
  {
   "cell_type": "markdown",
   "source": [
    "#### Quiz on strings"
   ],
   "metadata": {}
  },
  {
   "cell_type": "code",
   "execution_count": 88,
   "source": [
    "'chris'.upper()"
   ],
   "outputs": [
    {
     "output_type": "execute_result",
     "data": {
      "text/plain": [
       "'CHRIS'"
      ]
     },
     "metadata": {},
     "execution_count": 88
    }
   ],
   "metadata": {}
  },
  {
   "cell_type": "code",
   "execution_count": 89,
   "source": [
    "str(1)+str(1)"
   ],
   "outputs": [
    {
     "output_type": "execute_result",
     "data": {
      "text/plain": [
       "'11'"
      ]
     },
     "metadata": {},
     "execution_count": 89
    }
   ],
   "metadata": {}
  },
  {
   "cell_type": "code",
   "execution_count": 90,
   "source": [
    "A='27092021'\r\n",
    "A[1::2]"
   ],
   "outputs": [
    {
     "output_type": "execute_result",
     "data": {
      "text/plain": [
       "'7901'"
      ]
     },
     "metadata": {},
     "execution_count": 90
    }
   ],
   "metadata": {}
  },
  {
   "cell_type": "code",
   "execution_count": 91,
   "source": [
    "print('Javas'[0:2])"
   ],
   "outputs": [
    {
     "output_type": "stream",
     "name": "stdout",
     "text": [
      "Ja\n"
     ]
    }
   ],
   "metadata": {}
  },
  {
   "cell_type": "code",
   "execution_count": 94,
   "source": [
    "# r will tell python that string will be display as raw string\r\n",
    "\r\n",
    "print(r\" He \\ is the best\" )"
   ],
   "outputs": [
    {
     "output_type": "stream",
     "name": "stdout",
     "text": [
      " He \\ is the best\n"
     ]
    }
   ],
   "metadata": {}
  },
  {
   "cell_type": "code",
   "execution_count": null,
   "source": [],
   "outputs": [],
   "metadata": {}
  }
 ],
 "metadata": {
  "orig_nbformat": 4,
  "language_info": {
   "name": "python",
   "version": "3.8.5",
   "mimetype": "text/x-python",
   "codemirror_mode": {
    "name": "ipython",
    "version": 3
   },
   "pygments_lexer": "ipython3",
   "nbconvert_exporter": "python",
   "file_extension": ".py"
  },
  "kernelspec": {
   "name": "python3",
   "display_name": "Python 3.8.5 64-bit ('base': conda)"
  },
  "interpreter": {
   "hash": "1e915f0a29dc84041eaeb02b7b1a21c440e37a87b61d44d5e84a515737dc82bc"
  }
 },
 "nbformat": 4,
 "nbformat_minor": 2
}