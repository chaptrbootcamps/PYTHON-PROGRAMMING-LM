{
 "cells": [
  {
   "cell_type": "markdown",
   "source": [
    "Lists can contain strings, floats, and integers. We can nest other lists, and we can also nest tuples and other data structures. The same indexing conventions apply for nesting:\r\n",
    "\r\n"
   ],
   "metadata": {}
  },
  {
   "cell_type": "code",
   "execution_count": 3,
   "source": [
    "## Python \r\n",
    "\r\n",
    "my_list = []\r\n",
    "my_list_2=list()"
   ],
   "outputs": [],
   "metadata": {}
  },
  {
   "cell_type": "code",
   "execution_count": 4,
   "source": [
    "x=[12,345,135,1523,'Apple','Google','Samsung',['Galaxy','Pixel','Mac'],(12,16)]"
   ],
   "outputs": [],
   "metadata": {}
  },
  {
   "cell_type": "code",
   "execution_count": 8,
   "source": [
    "x[7]=('Book','G-Suite','Airpods')"
   ],
   "outputs": [],
   "metadata": {}
  },
  {
   "cell_type": "code",
   "execution_count": 10,
   "source": [
    "x[7][2]"
   ],
   "outputs": [
    {
     "output_type": "execute_result",
     "data": {
      "text/plain": [
       "'Airpods'"
      ]
     },
     "metadata": {},
     "execution_count": 10
    }
   ],
   "metadata": {}
  },
  {
   "cell_type": "code",
   "execution_count": 13,
   "source": [
    "try: \r\n",
    "    print(x[7][7])\r\n",
    "except IndexError: \r\n",
    "    print('Element not within lists')"
   ],
   "outputs": [
    {
     "output_type": "stream",
     "name": "stdout",
     "text": [
      "Element not within lists\n"
     ]
    }
   ],
   "metadata": {}
  },
  {
   "cell_type": "markdown",
   "source": [
    "# Python list operators "
   ],
   "metadata": {}
  },
  {
   "cell_type": "code",
   "execution_count": 47,
   "source": [
    "Hobbies=['Rugby','Wanderer','Cross-Country','Photography']\r\n",
    "# Hobbies.extend(['Gaming','Racing'])\r\n"
   ],
   "outputs": [],
   "metadata": {}
  },
  {
   "cell_type": "code",
   "execution_count": 33,
   "source": [
    "Hobbies"
   ],
   "outputs": [
    {
     "output_type": "execute_result",
     "data": {
      "text/plain": [
       "['Rugby', 'Wanderer', 'Cross-Country', 'Photography', 'Gaming', 'Racing']"
      ]
     },
     "metadata": {},
     "execution_count": 33
    }
   ],
   "metadata": {}
  },
  {
   "cell_type": "code",
   "execution_count": 38,
   "source": [
    "## Built in list methods. \r\n",
    "# all, any, sorted, min(),list()\r\n",
    "any(my_list)\r\n",
    "all(my_list)"
   ],
   "outputs": [
    {
     "output_type": "execute_result",
     "data": {
      "text/plain": [
       "True"
      ]
     },
     "metadata": {},
     "execution_count": 38
    }
   ],
   "metadata": {}
  },
  {
   "cell_type": "code",
   "execution_count": 40,
   "source": [
    "sorted(Hobbies,reverse=True)"
   ],
   "outputs": [
    {
     "output_type": "execute_result",
     "data": {
      "text/plain": [
       "['Wanderer', 'Rugby', 'Racing', 'Photography', 'Gaming', 'Cross-Country']"
      ]
     },
     "metadata": {},
     "execution_count": 40
    }
   ],
   "metadata": {}
  },
  {
   "cell_type": "code",
   "execution_count": 41,
   "source": [
    "### Extend and Append. \r\n",
    "Hobbies"
   ],
   "outputs": [
    {
     "output_type": "execute_result",
     "data": {
      "text/plain": [
       "['Rugby', 'Wanderer', 'Cross-Country', 'Photography', 'Gaming', 'Racing']"
      ]
     },
     "metadata": {},
     "execution_count": 41
    }
   ],
   "metadata": {}
  },
  {
   "cell_type": "code",
   "execution_count": 42,
   "source": [
    "New_Hobbies=('Chess','Music')"
   ],
   "outputs": [],
   "metadata": {}
  },
  {
   "cell_type": "code",
   "execution_count": 46,
   "source": [
    "Hobbies.append(New_Hobbies)\r\n",
    "print(Hobbies)"
   ],
   "outputs": [
    {
     "output_type": "stream",
     "name": "stdout",
     "text": [
      "['Rugby', 'Wanderer', 'Cross-Country', 'Photography', 'Gaming', 'Racing', ('Chess', 'Music'), 'Chess', 'Music', ('Chess', 'Music')]\n"
     ]
    }
   ],
   "metadata": {}
  },
  {
   "cell_type": "code",
   "execution_count": 44,
   "source": [
    "Hobbies.pop()"
   ],
   "outputs": [
    {
     "output_type": "execute_result",
     "data": {
      "text/plain": [
       "['Rugby',\n",
       " 'Wanderer',\n",
       " 'Cross-Country',\n",
       " 'Photography',\n",
       " 'Gaming',\n",
       " 'Racing',\n",
       " ('Chess', 'Music')]"
      ]
     },
     "metadata": {},
     "execution_count": 44
    }
   ],
   "metadata": {}
  },
  {
   "cell_type": "code",
   "execution_count": 48,
   "source": [
    "Hobbies.extend(New_Hobbies)\r\n",
    "print(Hobbies)"
   ],
   "outputs": [
    {
     "output_type": "stream",
     "name": "stdout",
     "text": [
      "['Rugby', 'Wanderer', 'Cross-Country', 'Photography', 'Chess', 'Music']\n"
     ]
    }
   ],
   "metadata": {}
  },
  {
   "cell_type": "markdown",
   "source": [
    "### List Comprehension"
   ],
   "metadata": {}
  },
  {
   "cell_type": "code",
   "execution_count": 1,
   "source": [
    "\r\n",
    "even_numbers=[]\r\n",
    "for i in range(21):\r\n",
    "    if i%2==0: \r\n",
    "        even_numbers.append(i)\r\n",
    "\r\n",
    "print(even_numbers)\r\n"
   ],
   "outputs": [
    {
     "output_type": "stream",
     "name": "stdout",
     "text": [
      "[0, 2, 4, 6, 8, 10, 12, 14, 16, 18, 20]\n"
     ]
    }
   ],
   "metadata": {}
  },
  {
   "cell_type": "code",
   "execution_count": 51,
   "source": [
    "## Equivalently \r\n",
    "even_numbers_2=[i for i in range(21) if i%2==0]\r\n",
    "even_numbers_2"
   ],
   "outputs": [
    {
     "output_type": "execute_result",
     "data": {
      "text/plain": [
       "[0, 2, 4, 6, 8, 10, 12, 14, 16, 18, 20]"
      ]
     },
     "metadata": {},
     "execution_count": 51
    }
   ],
   "metadata": {}
  },
  {
   "cell_type": "code",
   "execution_count": 54,
   "source": [
    "[x+y for x in ['Python ','R '] for y in ['Language','Programming']]"
   ],
   "outputs": [
    {
     "output_type": "execute_result",
     "data": {
      "text/plain": [
       "['Python Language', 'Python Programming', 'R Language', 'R Programming']"
      ]
     },
     "metadata": {},
     "execution_count": 54
    }
   ],
   "metadata": {}
  },
  {
   "cell_type": "code",
   "execution_count": 55,
   "source": [
    "for x in ['Python ','R ']: \r\n",
    "    for y in ['Language','Programming']: \r\n",
    "        print(x+y)"
   ],
   "outputs": [
    {
     "output_type": "stream",
     "name": "stdout",
     "text": [
      "Python Language\n",
      "Python Programming\n",
      "R Language\n",
      "R Programming\n"
     ]
    }
   ],
   "metadata": {}
  },
  {
   "cell_type": "code",
   "execution_count": 56,
   "source": [
    "even_numbers_2+even_numbers"
   ],
   "outputs": [
    {
     "output_type": "execute_result",
     "data": {
      "text/plain": [
       "[0, 2, 4, 6, 8, 10, 12, 14, 16, 18, 20, 0, 2, 4, 6, 8, 10, 12, 14, 16, 18, 20]"
      ]
     },
     "metadata": {},
     "execution_count": 56
    }
   ],
   "metadata": {}
  },
  {
   "cell_type": "markdown",
   "source": [
    "## Sets"
   ],
   "metadata": {}
  },
  {
   "cell_type": "code",
   "execution_count": 64,
   "source": [
    "# unordererd \r\n",
    "computers={'apple','alienware','omen','msi','razer','msi'}\r\n",
    "cars={'cx5','c200','xc40','msi','razer','omen'}"
   ],
   "outputs": [],
   "metadata": {}
  },
  {
   "cell_type": "code",
   "execution_count": 66,
   "source": [
    "computers.union(cars)"
   ],
   "outputs": [
    {
     "output_type": "execute_result",
     "data": {
      "text/plain": [
       "{'alienware', 'apple', 'c200', 'cx5', 'msi', 'omen', 'razer', 'xc40'}"
      ]
     },
     "metadata": {},
     "execution_count": 66
    }
   ],
   "metadata": {}
  },
  {
   "cell_type": "markdown",
   "source": [
    "## Files "
   ],
   "metadata": {}
  },
  {
   "cell_type": "code",
   "execution_count": 79,
   "source": [
    "file_handler=open('2809.txt')\r\n",
    "text=file_handler.read()\r\n",
    "f.close()"
   ],
   "outputs": [],
   "metadata": {}
  },
  {
   "cell_type": "code",
   "execution_count": 80,
   "source": [
    "print(text)"
   ],
   "outputs": [
    {
     "output_type": "stream",
     "name": "stdout",
     "text": [
      "do not get into a vow so easily- verbal ones even. \n",
      "It is a subset of AI. \n",
      "\n",
      "Concepts in machine learning \n",
      "- Different applications of machine learning. \n",
      "- Types of machine learning \n",
      "\n",
      "Credit risk assessment.\n",
      "The x is the properties of the customer.\n",
      "The f(x) is credit approved or not.\n",
      "Disease diagnosis.\n",
      "The x are the properties of the patient.\n",
      "The f(x) is the disease they suffer from.\n",
      "Face recognition.\n",
      "The x are bitmaps of peoples faces.\n",
      "The f(x) is to assign a name to the face.\n",
      "Automatic steering.\n",
      "The x are bitmap images from a camera in front of the car.\n",
      "The f(x) is the degree the steering wheel should be turned.\n",
      "\n",
      "- Splitting \n",
      "- Bleeding of data \n",
      "- Bias variance tradeoff\n",
      "- Overfitting and underfitting \n",
      "- Concept of decision boundary\n",
      "- How to reduce this overfitting \n",
      "- cross validation - the concept. \n",
      "- Model evaluation \n",
      "\n",
      "What I have worked on today. \n",
      "-Machine learning quiz review. \n",
      "-ML workshop + planning with ongoing students. \n",
      "\n",
      "What I am working on tommorow. \n",
      "- ML challenges for regression \n",
      "- ML workshop\n",
      "\n",
      "A lot of time has not been taken to look at what the text actually says. \n",
      "\n",
      "\n",
      "Get ready to become an element of the set of people who understand sets. \n",
      "Each instance in a set is called an element. \n",
      "Sets do not contain duplicate elements. \n",
      "\n",
      "We will use this method to add several examples of the sting to the set. \n",
      "\n",
      "usign the python random library and understansding the inputs. \n",
      "\n",
      "\n",
      "Using files, \n",
      "The open function. \n",
      "the rest of the methods are reliant on this function. \n",
      "decide on the read mode and the write mode, the most used encoding method. \n",
      "\n",
      "all file handlers with always interpret the new characters. \n",
      "\n",
      "Files are everywhere in the digital universe. \n",
      "Even your operating systems is a mountain of fils, today we are going to write a text files\n",
      "\n",
      "text files and binary files. human readable data while binary files are computer readable and isused \n",
      "\n",
      "\n",
      "\n",
      "file_handler=open('file_name',r)\n",
      "text=file_handler.read()\n",
      "f.close()\n",
      "\n",
      "print(text) \n",
      "\n",
      "what if sth goes wrong before you close your fiel. \n",
      "\n",
      "using the with key word. \n",
      "\n",
      "with open('file') as tada: \n",
      "\ttext=tada.read()\n",
      "\n",
      "and the closing is automatixally done for you. \n",
      "\n",
      "print(text) \n",
      "\n",
      "open a file that does not exist. \n",
      "\n",
      "we can encounter this by wrapping it in an try except block \n",
      "try : \n",
      "\n",
      "except FileNotFoundError: \n",
      "\ttext=None\n",
      "\n",
      "# write to fiels. \n",
      "\n",
      "with open \n",
      "\n",
      "if you do not specify a mode python will open the file in read mode by default. \n",
      "\n",
      "so you have to specify. \n",
      "with open('file','w') as f: \n",
      "\tfor i in oceans: \n",
      "\t\tf.write(ocean)\n",
      "\t\tf.write('\\n)\n",
      "\n",
      "writing sth to a file without overwriding the existing text. \n",
      "use the append mode \n",
      "it will create the file if it does not exist. \n",
      "\n",
      "\n",
      "Order matters, and in python here we use lists. \n",
      "\n",
      "\n",
      "There are two ways to write lists, using the list constructor or using brackets.\n",
      "\n",
      "You can always add values later using the append method. and they preserve the order of the data. \n",
      "\n",
      "\n",
      "You can also combine lists. \n",
      "methods fooe working with lists. \n",
      " \n",
      "\n",
      "\n",
      "\n",
      "\n",
      "\n",
      "\n",
      "\n",
      "\n",
      "\n",
      "\n",
      "\n"
     ]
    }
   ],
   "metadata": {}
  },
  {
   "cell_type": "code",
   "execution_count": 85,
   "source": [
    "with open ('2809.txt','r') as f:\r\n",
    "    txt=f.read()\r\n",
    "\r\n",
    "\r\n",
    "print(txt[0:100])"
   ],
   "outputs": [
    {
     "output_type": "stream",
     "name": "stdout",
     "text": [
      "do not get into a vow so easily- verbal ones even. \n",
      "It is a subset of AI. \n",
      "\n",
      "Concepts in machine lear\n"
     ]
    }
   ],
   "metadata": {}
  },
  {
   "cell_type": "code",
   "execution_count": 90,
   "source": [
    "with open('hobbies.txt','a') as f:\r\n",
    "    for hobby in Hobbies: \r\n",
    "        f.write(hobby)\r\n",
    "        f.write('\\n')\r\n"
   ],
   "outputs": [],
   "metadata": {}
  },
  {
   "cell_type": "code",
   "execution_count": 91,
   "source": [
    "with open('hobbies.txt') as file: \r\n",
    "    text=file.read()\r\n",
    "\r\n",
    "\r\n",
    "print(text)"
   ],
   "outputs": [
    {
     "output_type": "stream",
     "name": "stdout",
     "text": [
      "Rugby\n",
      "Wanderer\n",
      "Cross-Country\n",
      "Photography\n",
      "Chess\n",
      "Music\n",
      "Rugby\n",
      "Wanderer\n",
      "Cross-Country\n",
      "Photography\n",
      "Chess\n",
      "Music\n",
      "\n"
     ]
    }
   ],
   "metadata": {}
  },
  {
   "cell_type": "markdown",
   "source": [
    "<h3 id=\"co\">Copy and Clone List</h3>\r\n",
    "When we set one variable <b>B</b> equal to <b>A</b>, both <b>A</b> and <b>B</b> are referencing the same list in memory:\r\n"
   ],
   "metadata": {}
  },
  {
   "cell_type": "code",
   "execution_count": 2,
   "source": [
    "# Copy (copy by reference) the list A\r\n",
    "\r\n",
    "A = [\"hard rock\", 10, 1.2]\r\n",
    "B = A\r\n",
    "print('A:', A)\r\n",
    "print('B:', B)"
   ],
   "outputs": [
    {
     "output_type": "stream",
     "name": "stdout",
     "text": [
      "A: ['hard rock', 10, 1.2]\n",
      "B: ['hard rock', 10, 1.2]\n"
     ]
    }
   ],
   "metadata": {}
  },
  {
   "cell_type": "markdown",
   "source": [
    "### Quiz"
   ],
   "metadata": {}
  },
  {
   "cell_type": "code",
   "execution_count": 92,
   "source": [
    "# The method append does what: \r\n",
    "# adds one element to a alist \r\n",
    "# mergers two lists or inserts multiple elements in a list. "
   ],
   "outputs": [],
   "metadata": {}
  },
  {
   "cell_type": "code",
   "execution_count": null,
   "source": [
    "# True or false \r\n",
    "# lists are mutable/changable. "
   ],
   "outputs": [],
   "metadata": {}
  },
  {
   "cell_type": "code",
   "execution_count": 93,
   "source": [
    "# What is the syntax to clone the list A and assign the result to list B ?\r\n",
    "# B=A \r\n",
    "# B= A[:]"
   ],
   "outputs": [],
   "metadata": {}
  },
  {
   "cell_type": "code",
   "execution_count": 97,
   "source": [
    "# What is the result of the following: len((\"disco\",10,1.2, \"hard rock\",10))\r\n",
    "# 5,6,0 \r\n"
   ],
   "outputs": [],
   "metadata": {}
  },
  {
   "cell_type": "code",
   "execution_count": 98,
   "source": [
    "len((\"disco\",10,1.2, \"hard rock\",10))"
   ],
   "outputs": [
    {
     "output_type": "execute_result",
     "data": {
      "text/plain": [
       "5"
      ]
     },
     "metadata": {},
     "execution_count": 98
    }
   ],
   "metadata": {}
  }
 ],
 "metadata": {
  "orig_nbformat": 4,
  "language_info": {
   "name": "python",
   "version": "3.8.5",
   "mimetype": "text/x-python",
   "codemirror_mode": {
    "name": "ipython",
    "version": 3
   },
   "pygments_lexer": "ipython3",
   "nbconvert_exporter": "python",
   "file_extension": ".py"
  },
  "kernelspec": {
   "name": "python3",
   "display_name": "Python 3.8.5 64-bit ('base': conda)"
  },
  "interpreter": {
   "hash": "1e915f0a29dc84041eaeb02b7b1a21c440e37a87b61d44d5e84a515737dc82bc"
  }
 },
 "nbformat": 4,
 "nbformat_minor": 2
}
