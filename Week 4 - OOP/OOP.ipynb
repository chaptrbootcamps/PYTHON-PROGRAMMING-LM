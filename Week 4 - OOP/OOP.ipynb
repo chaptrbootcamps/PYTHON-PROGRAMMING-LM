{
 "cells": [
  {
   "cell_type": "markdown",
   "metadata": {},
   "source": [
    "# PYTHON CLASSES"
   ]
  },
  {
   "cell_type": "code",
   "execution_count": null,
   "metadata": {},
   "outputs": [],
   "source": [
    "import  time"
   ]
  },
  {
   "cell_type": "code",
   "execution_count": null,
   "metadata": {},
   "outputs": [],
   "source": [
    "class Student():\n",
    "    workshop_weight = 4\n",
    "    lms_weight = 3\n",
    "    \n",
    "    number_of_students = 0\n",
    "    \n",
    "    def __init__(self, fname, lname , course , wo_points, lms_points):\n",
    "        self.fname = fname\n",
    "        self.lname = lname\n",
    "        self.course = course\n",
    "        self.wo_points = wo_points\n",
    "        self.lms_points = lms_points\n",
    "        \n",
    "        Student.number_of_students += 1\n",
    "      \n",
    "        \n",
    "    def fullname(self):\n",
    "        return self.fname +\" \"+self.lname\n",
    "    \n",
    "    def total_points(self):\n",
    "        t_points = self.wo_points* self.workshop_weight + self.lms_points* self.lms_weight\n",
    "        return t_points\n",
    "    \n",
    "    def email(self):\n",
    "        return self.fullname()+ \"@gmail.com\"\n",
    "    \n",
    "        \n",
    "    @classmethod\n",
    "    def alter_weights(cls, wo_weight, lms_weight):\n",
    "        cls.workshop_weight = wo_weight\n",
    "        cls.lms_weight = lms_weight\n",
    "        \n",
    "    @staticmethod\n",
    "    def time_logged():\n",
    "        yr, month,day,hour,minute,sec,_,_,_ = time.localtime()\n",
    "        return f\"{yr}-{month}-{day}-{hour}-{minute}-{sec}\"\n",
    "   \n",
    "    "
   ]
  },
  {
   "cell_type": "code",
   "execution_count": null,
   "metadata": {},
   "outputs": [],
   "source": [
    "stud_1 = Student(\"New\", \"Student\", \"Python Programming\" , 20, 20)\n",
    "stud_2 = Student(\"Chaptr\" , \"Global\", \"Advanced DevLabs\", 40, 10)"
   ]
  },
  {
   "cell_type": "code",
   "execution_count": null,
   "metadata": {},
   "outputs": [],
   "source": []
  },
  {
   "cell_type": "code",
   "execution_count": 1,
   "metadata": {},
   "outputs": [
    {
     "name": "stdout",
     "output_type": "stream",
     "text": [
      "Hello World\n"
     ]
    }
   ],
   "source": [
    "def new_function():\n",
    "    def wrapper ():\n",
    "        print(\"Hello World\")\n",
    "    return wrapper\n",
    "    \n",
    "x = new_function()\n",
    "x()"
   ]
  },
  {
   "cell_type": "code",
   "execution_count": 2,
   "metadata": {},
   "outputs": [],
   "source": [
    "def new_function(f):\n",
    "    def wrapper ():\n",
    "        f()\n",
    "    return wrapper   \n",
    "\n",
    "\n",
    "@new_function\n",
    "def new_function_A():\n",
    "    return(\"Welcome to Chaptr\")\n",
    "\n",
    "@new_function\n",
    "def new_function_B():\n",
    "    return(\"This is a new Day\")\n",
    "    \n",
    "\n",
    "x = new_function_A()\n",
    "#new_function_A()\n",
    "#new_function_B()\n",
    "new_function_B()"
   ]
  },
  {
   "cell_type": "code",
   "execution_count": 3,
   "metadata": {},
   "outputs": [
    {
     "name": "stdout",
     "output_type": "stream",
     "text": [
      "Area is 4\n"
     ]
    }
   ],
   "source": [
    "def area(f):\n",
    "    def wrapper(*args,**kwargs):\n",
    "        area = f(*args,**kwargs)\n",
    "        print(\"Area is {}\".format(area))\n",
    "    return wrapper\n",
    "\n",
    "@area\n",
    "def triangle(x,y):\n",
    "    return (1/2)*x*y\n",
    "\n",
    "@area\n",
    "def square(s):\n",
    "    return s**2\n",
    "\n",
    "square(2)"
   ]
  },
  {
   "cell_type": "code",
   "execution_count": 4,
   "metadata": {},
   "outputs": [
    {
     "name": "stdout",
     "output_type": "stream",
     "text": [
      "Area is 4.0\n"
     ]
    }
   ],
   "source": [
    "triangle(2,4)"
   ]
  },
  {
   "cell_type": "code",
   "execution_count": 37,
   "metadata": {},
   "outputs": [],
   "source": []
  },
  {
   "cell_type": "code",
   "execution_count": 45,
   "metadata": {},
   "outputs": [
    {
     "data": {
      "text/plain": [
       "32000"
      ]
     },
     "execution_count": 45,
     "metadata": {},
     "output_type": "execute_result"
    }
   ],
   "source": [
    "def amount_to_be_paid(func):\n",
    "    def wrapper2(salary):\n",
    "        salary = func(salary)\n",
    "        pay_dict={\n",
    "            'NHIF':salary*0.2,\n",
    "            'NSSF':salary*0.2,\n",
    "            'TAX':salary*0.3\n",
    "        }\n",
    "        \n",
    "        net_salary = salary-(salary*0.2+salary*0.2+salary*0.3)\n",
    "        print(pay_dict,\"\\nNet Salary : \",net_salary) \n",
    "        #return net_salary\n",
    "    return wrapper2\n",
    "\n",
    "\n",
    "@amount_to_be_paid\n",
    "def manager(sal):\n",
    "    salaree = sal - 2000\n",
    "    return salaree\n",
    "\n",
    "@amount_to_be_paid\n",
    "def waiter(sal):\n",
    "    salaree = sal - 1000\n",
    "    return salaree\n",
    "\n",
    "waiter(33000)"
   ]
  },
  {
   "cell_type": "code",
   "execution_count": null,
   "metadata": {},
   "outputs": [],
   "source": []
  },
  {
   "cell_type": "code",
   "execution_count": 87,
   "metadata": {},
   "outputs": [],
   "source": [
    "class Students:\n",
    "    def __init__(self, fname, lname, course):\n",
    "        self.fname = fname\n",
    "        self.lname = lname\n",
    "        self.course = course\n",
    "    \n",
    "    def fullname(self):\n",
    "        return (self.fname+\" \"+self.lname)\n",
    "    \n",
    "    def __repr__(self):\n",
    "        return(\"Student first name is {}\".format(self.fname))\n",
    "    \n",
    "    \n",
    "class TMs(Students):\n",
    "    def __init__(self,fname, lname, course,specialization):\n",
    "        Students.__init__(self,fname, lname, course)\n",
    "        self.specialization = specialization\n"
   ]
  },
  {
   "cell_type": "code",
   "execution_count": 88,
   "metadata": {},
   "outputs": [],
   "source": [
    "stud_1 = Students(\"Carolyne\",\"Njoroge\",\"OOP\")\n",
    "stud_2 = Students(\"Jackline\",\"Ngenia\",\"OOP\")\n",
    "stud_3 = Students(\"Wemmy\",\"Wangare\",\"OOP\")\n",
    "stud_4 = Students(\"Caroline\",\"Kangara\",\"OOP\")"
   ]
  },
  {
   "cell_type": "code",
   "execution_count": 90,
   "metadata": {},
   "outputs": [],
   "source": [
    "tm1 = TMs(\"Shadrach\",\"Aseta\",\"OOP\", \"DataScience\")\n",
    "tm2 = TMs(\"Cyril\",\"Michino\",\"web dev\", \"BlockChain\")"
   ]
  },
  {
   "cell_type": "code",
   "execution_count": 91,
   "metadata": {},
   "outputs": [
    {
     "data": {
      "text/plain": [
       "'Cyril Michino'"
      ]
     },
     "execution_count": 91,
     "metadata": {},
     "output_type": "execute_result"
    }
   ],
   "source": [
    "tm2.fullname()"
   ]
  },
  {
   "cell_type": "code",
   "execution_count": null,
   "metadata": {},
   "outputs": [],
   "source": []
  },
  {
   "cell_type": "code",
   "execution_count": null,
   "metadata": {},
   "outputs": [],
   "source": []
  },
  {
   "cell_type": "code",
   "execution_count": null,
   "metadata": {},
   "outputs": [],
   "source": []
  },
  {
   "cell_type": "code",
   "execution_count": null,
   "metadata": {},
   "outputs": [],
   "source": []
  }
 ],
 "metadata": {
  "kernelspec": {
   "display_name": "Python 3",
   "language": "python",
   "name": "python3"
  },
  "language_info": {
   "codemirror_mode": {
    "name": "ipython",
    "version": 3
   },
   "file_extension": ".py",
   "mimetype": "text/x-python",
   "name": "python",
   "nbconvert_exporter": "python",
   "pygments_lexer": "ipython3",
   "version": "3.7.4"
  }
 },
 "nbformat": 4,
 "nbformat_minor": 4
}
